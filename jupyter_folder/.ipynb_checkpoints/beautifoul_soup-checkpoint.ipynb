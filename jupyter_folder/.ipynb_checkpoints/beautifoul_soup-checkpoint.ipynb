{
 "cells": [
  {
   "cell_type": "code",
   "execution_count": null,
   "metadata": {},
   "outputs": [],
   "source": [
    "import requests\n",
    "from bs4 import BeautifulSoup\n",
    "from selenium import webdriver\n",
    "from selenium.webdriver.common.keys import Keys\n",
    "from selenium.webdriver.common.action_chains import ActionChains\n",
    "from selenium.common.exceptions import NoSuchElementException\n",
    "import time\n",
    "import random\n",
    "import pandas as pd"
   ]
  },
  {
   "cell_type": "markdown",
   "metadata": {},
   "source": [
    "# BEAUTIFOUL SOUP"
   ]
  },
  {
   "cell_type": "code",
   "execution_count": null,
   "metadata": {},
   "outputs": [],
   "source": [
    "head ={'accept': 'text/html,application/xhtml+xml,application/xml;q=0.9,image/webp,image/apng,*/*;q=0.8,application/signed-exchange;v=b3;q=0.9',\n",
    "       'accept-encoding': 'gzip, deflate, br',\n",
    "       'accept-language': 'fr-FR,fr;q=0.9,es-ES;q=0.8,es;q=0.7,en-US;q=0.6,en;q=0.5,la;q=0.4',\n",
    "       'Cookie': \"CTK=1ec2qan6pq2ma800; _ga=GA1.2.1480736921.1593527593; _gcl_au=1.1.866743975.1593527613; JCLK=1; RF=\\\"TFTzyBUJoNr6YttPP3kyivpZ6-9J49o-Uk3iY6QNQqKE2fh7FyVgtWFBsuN5UtuLz_MWBBiO8Xw=\\\"; g_state={\\\"i_l\\\":0}; optimizelyEndUserId=oeu1594026206066r0.5768540165703828; OptanonAlertBoxClosed=2020-08-03T08:31:59.644Z; _gid=GA1.2.863213106.1599396400; OptanonConsent=isIABGlobal=false&datestamp=Mon+Sep+07+2020+12%3A19%3A25+GMT%2B0200+(Central+European+Summer+Time)&version=6.3.0&consentId=4b932611-d37e-4b98-9ee6-5ffcb5a758aa&interactionCount=2&landingPath=NotLandingPage&groups=C0001%3A1%2CC0002%3A1%2CC0003%3A1%2CC0004%3A1&hosts=&AwaitingReconsent=false&geolocation=%3B\",\n",
    "       'User-Agent': 'Mozilla/5.0 (Macintosh; Intel Mac OS X 10_15_1) AppleWebKit/537.36 (KHTML, like Gecko) Chrome/80.0.3987.149 Safari/537.36'}\n",
    "       "
   ]
  },
  {
   "cell_type": "code",
   "execution_count": null,
   "metadata": {},
   "outputs": [],
   "source": [
    "url='https://www.indeed.fr/jobs?q=Alternance+Data&l=Paris+%2875%29&fromage=3'\n",
    "r=requests.get(url,headers=head)\n",
    "print(url)\n",
    "print(r.status_code)\n",
    "soup = BeautifulSoup(r.content,\"html\")\n",
    "time.sleep(random.randrange(0,2))\n",
    "for elem in soup.findAll('a',{'data-tn-element':'jobTitle'}):\n",
    "        print('#################################')\n",
    "        print(elem.text.strip())"
   ]
  },
  {
   "cell_type": "code",
   "execution_count": null,
   "metadata": {},
   "outputs": [],
   "source": [
    "# CHOIX DES VARIABLES DE L'URL:\n",
    "    # FROMAGE : date de publication 3 = 3 derniers jours : choix entre 3,7,14\n",
    "\n",
    "\n",
    "# CREATION DE NOS DICTIONNAIRES DE DONNEES FUTURES\n",
    "title = []\n",
    "company = []\n",
    "location = []\n",
    "\n",
    "# NOMBRE DE PAGE DE 0 à 200 avec un PAS de 10 (fonctionne comme cela dans l'url)\n",
    "for j in range(0,500,10):\n",
    "    # HEAD pris dans le navigateur\n",
    "    head = {'accept': 'text/html,application/xhtml+xml,application/xml;q=0.9,image/webp,image/apng,*/*;q=0.8,application/signed-exchange;v=b3;q=0.9',\n",
    "       'accept-encoding': 'gzip, deflate, br',\n",
    "       'accept-language': 'fr-FR,fr;q=0.9,es-ES;q=0.8,es;q=0.7,en-US;q=0.6,en;q=0.5,la;q=0.4',\n",
    "       'Cookie': \"CTK=1ec2qan6pq2ma800; _ga=GA1.2.1480736921.1593527593; _gcl_au=1.1.866743975.1593527613; JCLK=1; RF=\\\"TFTzyBUJoNr6YttPP3kyivpZ6-9J49o-Uk3iY6QNQqKE2fh7FyVgtWFBsuN5UtuLz_MWBBiO8Xw=\\\"; g_state={\\\"i_l\\\":0}; optimizelyEndUserId=oeu1594026206066r0.5768540165703828; OptanonAlertBoxClosed=2020-08-03T08:31:59.644Z; _gid=GA1.2.863213106.1599396400; OptanonConsent=isIABGlobal=false&datestamp=Mon+Sep+07+2020+12%3A19%3A25+GMT%2B0200+(Central+European+Summer+Time)&version=6.3.0&consentId=4b932611-d37e-4b98-9ee6-5ffcb5a758aa&interactionCount=2&landingPath=NotLandingPage&groups=C0001%3A1%2CC0002%3A1%2CC0003%3A1%2CC0004%3A1&hosts=&AwaitingReconsent=false&geolocation=%3B\",\n",
    "       'User-Agent': 'Mozilla/5.0 (Macintosh; Intel Mac OS X 10_15_1) AppleWebKit/537.36 (KHTML, like Gecko) Chrome/80.0.3987.149 Safari/537.36'}\n",
    "\n",
    "    # Si nb de page = 0 url simple (finalement inutile, url par défaut)\n",
    "    #if j == 0:\n",
    "    #    url ='https://www.indeed.fr/jobs?q=Alternance+Data&l=Paris+%2875%29&fromage=14'\n",
    "    #else:\n",
    "    url ='https://www.indeed.fr/jobs?q=Alternance+Data&l=Paris+%2875%29&fromage=3&start='+str(j)\n",
    "\n",
    "    # Request BS\n",
    "    r = requests.get(url,headers=head)\n",
    "    # print(url)\n",
    "    # print(r.status_code)\n",
    "    soup = BeautifulSoup(r.content,'html')\n",
    "#####!!!!!!#######\n",
    "    \n",
    "    # Time sleep pour être caché\n",
    "    time.sleep(random.randrange(0,2))\n",
    "    \n",
    "    # Récupérer les éléments TITLE (titre de chaque annonce)\n",
    "    for elem in soup.findAll('a',{'data-tn-element':'jobTitle'}):\n",
    "        if elem == None:\n",
    "            title.append(\"N/A\")\n",
    "        else:\n",
    "        #print(\"c'est la page: \"+ str(j))\n",
    "        #print(elem.text.strip())\n",
    "            title.append(elem.text.strip())\n",
    "        \n",
    "    # Récupérer les éléments COMPANY (entreprise de chaque annonce)\n",
    "    for elem in soup.findAll('span',{'class':'company'}):\n",
    "        if elem == None:\n",
    "            company.append(\"N/A\")\n",
    "        else:\n",
    "            company.append(elem.text.strip())  \n",
    "            \n",
    "\n",
    "#####!!!!!!######           \n",
    "#     for elem in soup.findAll('span',{'class':'location accessible-contrast-color-location'}):\n",
    "#         if elem == None:\n",
    "#             location.append(\"N/A\")\n",
    "#         else:\n",
    "#         #print(\"c'est la page: \"+ str(j))\n",
    "#         #print(elem.text.strip())\n",
    "#             location.append(elem.text.strip())\n",
    "#####!!!!!!######\n",
    "    "
   ]
  },
  {
   "cell_type": "code",
   "execution_count": null,
   "metadata": {},
   "outputs": [],
   "source": [
    "## print(offre)\n",
    "print(len(title))\n",
    "print(len(company))\n",
    "print(len(location))"
   ]
  },
  {
   "cell_type": "code",
   "execution_count": null,
   "metadata": {},
   "outputs": [],
   "source": [
    "list(zip(title,company))"
   ]
  },
  {
   "cell_type": "code",
   "execution_count": null,
   "metadata": {},
   "outputs": [],
   "source": [
    "d = {'Entreprise':company, 'Offre': title,}\n",
    "df = pd.DataFrame(data=d)\n",
    "df.to_csv('../result_csv/scrap_indeed.csv',index=False)"
   ]
  },
  {
   "cell_type": "code",
   "execution_count": null,
   "metadata": {},
   "outputs": [],
   "source": [
    "pd.read_csv('scrap_indeed.csv')"
   ]
  }
 ],
 "metadata": {
  "kernelspec": {
   "display_name": "Python 3",
   "language": "python",
   "name": "python3"
  },
  "language_info": {
   "codemirror_mode": {
    "name": "ipython",
    "version": 3
   },
   "file_extension": ".py",
   "mimetype": "text/x-python",
   "name": "python",
   "nbconvert_exporter": "python",
   "pygments_lexer": "ipython3",
   "version": "3.7.6"
  }
 },
 "nbformat": 4,
 "nbformat_minor": 4
}
