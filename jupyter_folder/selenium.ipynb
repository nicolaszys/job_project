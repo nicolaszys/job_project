{
 "cells": [
  {
   "cell_type": "markdown",
   "metadata": {},
   "source": [
    "# Selenium"
   ]
  },
  {
   "cell_type": "code",
   "execution_count": 1,
   "metadata": {},
   "outputs": [],
   "source": [
    "import requests\n",
    "from bs4 import BeautifulSoup\n",
    "from selenium import webdriver\n",
    "from selenium.webdriver.common.keys import Keys\n",
    "from selenium.webdriver.common.action_chains import ActionChains\n",
    "from selenium.common.exceptions import NoSuchElementException\n",
    "import time\n",
    "import random\n",
    "import pandas as pd"
   ]
  },
  {
   "cell_type": "markdown",
   "metadata": {},
   "source": [
    "# Selenium : en utilisant les find_xxxx(s) en liste\n",
    "\n",
    "**browser.find_elements_by_css_selector** : cela nous permet de retrouver les listes des éléments\n"
   ]
  },
  {
   "cell_type": "code",
   "execution_count": 174,
   "metadata": {},
   "outputs": [
    {
     "data": {
      "text/plain": [
       "'Assistant de direction H/F en alternance'"
      ]
     },
     "execution_count": 174,
     "metadata": {},
     "output_type": "execute_result"
    }
   ],
   "source": [
    "liste_title[0].text"
   ]
  },
  {
   "cell_type": "code",
   "execution_count": 187,
   "metadata": {},
   "outputs": [
    {
     "name": "stdout",
     "output_type": "stream",
     "text": [
      "['Assistant de direction H/F en alternance', 'Stage en Alternance : Assistant de laboratoire H/F', 'CHARGÉ(E) DE COMMUNICATION & MARKETING - ALTERNANCE', \"NLP DATA SCIENTIST (STAGE FIN D'ÉTUDES / ALTERNANCE)\", 'Stage - 6 mois - Data Scientist (H/F) - Paris 13ème', 'Alternance/Apprentissage/ Stage Chargé(e) Service Clientèle...', 'Assistant Chef de projets SI (Alternance) H/F', 'Data Scientist - F/H', 'Assistant de gestion H/F en alternance - APPRENTISSAGE', 'Data Engineer - McKinsey Analytics', 'Data Analyst (internship)', 'Alternance Assistant(e) de gestion entreprise-(H/F)']\n"
     ]
    }
   ],
   "source": [
    "titles_convert = []\n",
    "for title in liste_title:\n",
    "    title = title.text\n",
    "    titles_convert.append(title)\n",
    "    \n",
    "print(liste_convertie)"
   ]
  },
  {
   "cell_type": "code",
   "execution_count": 237,
   "metadata": {},
   "outputs": [],
   "source": [
    "def info():\n",
    "    liste_titles = browser.find_elements_by_css_selector(\"[data-tn-element='jobTitle']\")\n",
    "    liste_companies = browser.find_elements_by_css_selector(\"[class='company']\")\n",
    "    liste_locations = browser.find_elements_by_css_selector(\"[class='location accessible-contrast-color-location']\")\n",
    "\n",
    "    for title in liste_titles:\n",
    "        title = title.text\n",
    "        titles_convert.append(title)\n",
    "\n",
    "    for company in liste_companies:\n",
    "        company = company.text\n",
    "        companies_convert.append(company)\n",
    "\n",
    "    for location in liste_locations:\n",
    "        location = location.text\n",
    "        locations_convert.append(location)"
   ]
  },
  {
   "cell_type": "code",
   "execution_count": 284,
   "metadata": {},
   "outputs": [
    {
     "name": "stdout",
     "output_type": "stream",
     "text": [
      "You have no longer page to iterate\n"
     ]
    }
   ],
   "source": [
    "# DEMARRAGE DE SELENIUM\n",
    "browser = webdriver.Chrome()\n",
    "browser.maximize_window()\n",
    "browser.get('https://www.indeed.fr/')\n",
    "\n",
    "# ENTREZ LES MOTS CLEFS A RECHERCHER (ex : Alternance data)\n",
    "input_bar = browser.find_element_by_xpath('//*[@id=\"text-input-what\"]').send_keys('Alternance data')\n",
    "\n",
    "# Time sleep\n",
    "time.sleep(random.randrange(0,2))\n",
    "\n",
    "# ENTREZ LA LOCATION (ex: Paris)\n",
    "# A revoir\n",
    "\n",
    "# Time sleep\n",
    "time.sleep(random.randrange(0,2))\n",
    "\n",
    "# INPUT LA RECHERCHE\n",
    "input_recherche = browser.find_element_by_xpath('/html/body/div[1]/div[4]/div[1]/div/div/div/form/div[3]/button').click()\n",
    "\n",
    "# Filter a 24 dernieres heures (1/2)\n",
    "date = browser.find_element_by_id('filter-dateposted').click()\n",
    "\n",
    "# Time sleep\n",
    "time.sleep(random.randrange(0,2))\n",
    "\n",
    "# Filter a 24 dernieres heures (2/2)\n",
    "#one_day = browser.find_element_by_partial_link_text('Dernières').click()\n",
    "three_days = browser.find_element_by_partial_link_text('3 derniers jours').click()\n",
    "#seven_days = browser.find_element_by_partial_link_text('7 derniers jours').click()\n",
    "#fourteen_days = browser.find_element_by_partial_link_text('14 derniers jours').click()\n",
    "\n",
    "# Time sleep\n",
    "time.sleep(2)\n",
    "\n",
    "# Si fenêtre du mail apparait, pour fermer cette fenêtre\n",
    "try:\n",
    "    browser.find_element_by_css_selector('[aria-label=\"Close\"]').click()\n",
    "except:\n",
    "    pass\n",
    "\n",
    "# Time sleep\n",
    "time.sleep(random.randrange(0,2))\n",
    "\n",
    "# VARIABLES\n",
    "titles_convert = []\n",
    "companies_convert = []\n",
    "locations_convert = []\n",
    "urls_convert = []\n",
    "\n",
    "while True:\n",
    "    try:\n",
    "        info()\n",
    "        browser.execute_script(\"window.scrollTo(0, document.body.scrollHeight)\") \n",
    "        time.sleep(1)\n",
    "        arrow = browser.find_element_by_css_selector('[aria-label=\"Suivant\"]').click()\n",
    "    except NoSuchElementException :\n",
    "        print(\"You have no longer page to iterate\")\n",
    "        break\n",
    "\n",
    "# FERMETURE DU BROWSER\n",
    "browser.close()\n",
    "\n"
   ]
  },
  {
   "cell_type": "code",
   "execution_count": 285,
   "metadata": {
    "collapsed": true
   },
   "outputs": [
    {
     "name": "stdout",
     "output_type": "stream",
     "text": [
      "['Assistant(e) de Manager – BTS SAM en alternance - Rentrée Oc...', 'Chargé de projet digital Marketing Epargne', 'Market Data Analyst (H/F) CDD', 'Data analyste informatique - CDI (H/F)', 'Alternance : Chargé de communication Editoriale et Relations...', 'DATA SCIENTIST H/F', 'Alternance - Assistant Directeur Data Management (H/F)', 'Data analyst (H/F)', \"NLP DATA SCIENTIST (STAGE FIN D'ÉTUDES / ALTERNANCE)\", 'Alternance – AMO Data Scientist H/F', 'Alternance Développeur Web/IHM F/H', 'DATA OFFICER/DATA ANALYSTE - MNC - H/F', 'Data Analyst (internship)', 'Data Scientist H/F', 'Alternance - Assistant(E) Achats Et Développement Props & Pa...', 'Chargé(e) de Projets Marketing et Communication Digitale', 'Assistant Marketing Web et Réseaux Sociaux H/F - Alternance', 'Stage - 6 mois - Data Scientist (H/F) - Paris 13ème', 'Chargé de paie et administration du personnel (Alternance) -...', 'Assistante de Direction et Ressources Humaines H/F - Alterna...', 'Data Scientist F/H', 'Biostatisticien & Data Scientist', 'Alternance Assistant(e) Project Management Office SAP H/F', 'Alternance Assistant(e) de gestion entreprise-(H/F)', 'Assistant administratif RH – Alternance (H/F)', \"Alternance- Chargé d'études Marketing H/F\", 'Chargé de recrutement - ALTERNANCE (H/F)', 'Stage / Alternance Assistant(e) Qualité et opération H/F', 'Data Scientist H/F (2020-15786)', 'Data scientist', 'Data Engineer (F/H) - France', 'Contrat en alternance - Alternance : Chargé de communication...', 'Data Scientist Expert H/F', 'Assistant Qualité Alternance H/F', 'Alternance - 1 à 2 ans - Assistant Analyste ESG - Paris 13èm...', 'Alternance - Chargé(e) de développement RH', 'Alternance - Assistant(e) de Manager', 'Chargé relation client (F-H) - Paris - Alternance F/H', 'Alternance - Chargé(e) de Communication / Marque Employeur -...', 'Market Data Analyst (H/F) CDD', 'Data analyst - odds', 'CHARGÉ(E) DE COMMUNICATION & MARKETING - ALTERNANCE', 'Data Engineer - McKinsey Analytics', \"Contrat en alternance - Chargé d'affaires / développement de...\", 'Alternance 24 mois - Chargé de développement expérience coll...', 'Assistant administratif et commercial H/F - Alternance - Cha...', 'Contrat en alternance - Alternance Chargé de mission Marketi...', 'Data AZURE Engineer / Freelance', 'Assistant Chef de projets SI (Alternance) H/F', 'DATA SCIENTIST - F/H', 'Alternance Chargé(e) de Marketing Opérationnel-(H/F)', 'Operations Data Analyst H/F', 'Data Analyst (H/F)', 'Data Scientist F/H', 'Alternance 24 mois - Chargé de développement expérience coll...', 'Assistant de direction H/F en alternance', 'Assistant de gestion H/F en alternance - APPRENTISSAGE', 'Assistant(e) moyens généraux en alternance F/H', 'Stage en Alternance : Assistant de laboratoire H/F', 'Chargé(e) de communication et marketing digital - Alternance...', 'Contrat en alternance - Assistant Chef de projet Logistique...', 'Contrat en alternance - Alternance - Assistant contrôleur de...', 'Chargé(e) de communication - Alternance', 'Data Engineer (H/F)', 'Alternance - Assistant administratif et financier F/H', 'CHARGE(E) DE PROJET RASSEMBLEMENT EUROPEEN (H/F)', 'DATA ANALYST - DATA VISUALISATION', 'Chargé de mission stratégie marketing et analyse Data/CRM F/...', 'Data Analyst F/H', 'Alternance - Chargé de recrutement (H/F)', 'Alternance - chargé de gestion F/H', 'DATA ANALYST SENIOR H/F', 'Alternance - Chargé de Marketing et Communication Digitale (...', 'Data Scientist - F/H', 'Alternance - 1 an - Chargé de Middle Office - Paris 13ème F/...', 'Alternance - Assistant Responsable des Alliances et partenar...', 'Chargée de recrutement (alternance) H/F', 'Data Analyst - Data Steward F/H', 'Chargé(e) de projet conformité (H/F) – STAGE/ANNEE CESURE', \"Alternance - Chargé d'Affaires SAS H/F\", 'ASSISTANT JURISTE MARCHES PUBLICS - Alternance (H/F)', 'Assistant(e) Marketing H/F en alternance', 'Data Engineer AWS', 'CDI - BIG DATA ENGINEER- F/H', 'Data Engineer F/H', 'CHARGE(E) DE PROJET GOODIES', 'ASSISTANT CASH MANAGER EN ALTERNANCE (H/F)', 'Alternance - Assistant Product Owner', 'Data Scientist Senior f/m', 'Chargé de Reporting & Data Finance – @PwC Neuilly-sur-Seine...', 'Chargé de projet Metiers HSE F/H', 'Data Manager et Analyste Processus Gestion S&OP et GPEC F/H', 'consultant informatique Finance de Marché (ARPSON)/ Développ...', 'INGENIEUR / CHARGE DE PROJET SIT H/F 93', 'DATA SCIENTIST CONFIRME- F/H', 'Assistant ressources Humaines en alternance H/F', 'Chargé(e) AQ Opérationnelle Projets H/F', 'Stage Chargé(e) De Projet Procédures', 'Stage Assistant Analyste Marché', 'Chargé/Chargée de projet évènementiel & E-CRM', 'Chargé/Chargée de projet évènementiel & E-CRM F/H', 'Stage Janvier 2021 - EMEA Brand Content Analyst Assistant (H...', 'Chargé(e) de Communication Digitale en Alternance H/F', 'Data Scientist Expert H/F', 'Senior Big Data Engineer (H/F) -75 / Freelance', 'Responsable Data Analyst F/H', 'DATA ANALYST (F/H)', 'Stage - Assistant(e) Business Analyst Eyewear Mode - Janvier...', 'Chargé.e de projets en urbanisme durable F/H', 'Chargé de projet junior (EUR LIVE) - Santé', 'DATA ANALYST (F/H)', 'Alternant Chef de projet Marketing, communication et chargé(...', 'Chargé de projet vente F/H', 'Chargé.e du domaine social - projets informatiques MOE - Vil...', 'Stage - Assistant(e) Business Analyst Opérations Maille Mode...', 'PSYCHOLOGUE – CHARGE DE PROJET FORMATION A L’AUTISME H/F', 'Chasseur immobilier / Chargé(e) de projet immobilier confirm...', 'Chargé(e) de projet Construction durable F/H', 'Chargé de projets finance H/F', 'Chargé(e) de projets IT Système - 91 F/H', 'STAGE - Assistant support au pilotage des Ventes et analyse...', 'STAGE - SIÈGE SOCIAL - Chargé.e de Projets Immobilier - Dire...', 'Chasseur immobilier / Chargé(e) de projet immobilier confirm...', 'Chargé de support et projets SAP BFC - H/F', 'ANALYSTE DEVELOPPEUR BI (F/H)', 'CHARGE DE PROJETS ASSURANCE ANGLAIS ESPAGNOL H/F', 'STAGE - Assistant pilotage Ventes et analyse de données (H/F...', 'STAGE - Analyste marché soins patients & BI (H/F)', 'Assistant de gestion locative en alternance F/H']\n",
      "['ESAGE', 'ALLINSOURCING', 'Natixis', 'Human Job', 'CGI', 'Garantme', 'Publicis Media', 'PHENIX', 'Outmind', 'Air France-KLM', 'Orano', 'La Banque de France', 'SimpliField', 'EDF', 'Louis Vuitton', 'PROGRESS SANTE', 'ISCOD', 'Natixis', 'Showroomprive.com', 'ELYAS CONSEIL', 'Jobboards', 'Da Volterra', 'Total', 'Franfinance', 'Gefco', 'Système U', 'Paris Habitat', 'SOCIÉTÉ ALIMENTAIRE', 'EDF', 'EGROUPE', 'Finalcad', 'CGI', 'Umanis', 'LLFC', 'NATIXIS stage', 'ESTIAM', 'Veolia', 'Générationnel', 'Extia', 'NATIXIS', 'Pandascore', 'Orthlane', 'McKinsey & Company', 'SS2Qual', 'Natixis', 'ISCOD', 'DSC - Groupe Saint Gobain', 'Nigel Frank International LTD', 'Sanef', 'Ingeniance', 'Franfinance', 'Trusk', 'CITECH', 'Cadreo', 'NATIXIS', 'Le Sanctuaire Holding', 'AEPBN Association Emmaüs Port Marly Bougival Nante...', 'Certinergy & Solutions', 'Groupe GSRI - Geoscan Structure & Réhabilitation Ingénierie', 'ISCOD', 'BOLLORE LOGISTICS SERVICES', 'MEDIAPOST', 'Kuehne+Nagel', 'Amplifon', 'Linkednutri', 'SGDF', 'Harnham', 'LIGUE NATIONALE CONTRE LE CANCER', 'Cadreo', 'ACTIVUS Group', 'mozaik RH', 'Aldi', 'Carrefour', 'SHOWROOMPRIVE.COM', 'NATIXIS stage', 'Altares D&B', 'Aperlead', 'Cadreo', 'Nexity', 'SMAC', 'Grand Paris Aménagement', 'SOLINA', 'Getpro', 'Ingeniance', 'Amplifon', 'Facilitess', 'TALENTIS HORIZON', 'La Relève', 'Rakuten France', 'PwC', 'BUREAU VERITAS', 'Cadreo', 'Proman', 'Ingeniance', 'CRIT', 'Sanofi', 'FCM Travel Solutions', 'X-Trade Brokers (XTB) France', 'Amnesty International', 'AMNESTY INTERNATIONAL SECTION FRANCAISE', 'Ubisoft', 'DEKRA', 'Umanis', 'Club Freelance', 'Cadreo', 'RANDSTAD INHOUSE SERVICES GPA', 'Chanel', 'LESENR', 'Université Paris Est Créteil Val de Marne', 'Randstad Inhouse', '2SI - Evolukid', 'ALDI', \"Direction des Systèmes d'Information et du Numériq...\", 'Chanel', 'APAJH 94', 'ABIL RESSOURCES', 'LESENR', 'HAYS', 'ADISTA', 'Dassault Systèmes', 'Air Liquide', 'Abil Ressources', 'LEON Recrutement', 'Expectra.fr', 'MS GROUP Paris', 'DASSAULT SYSTEMES', 'DASSAULT SYSTEMES', 'G2F Conseil']\n",
      "['Paris (75)', 'Paris (75)', 'Paris (75)', 'Paris 15e (75)', 'Paris (75)', 'Paris (75)', 'Paris (75)', 'Paris 17e (75)', 'Paris (75)', 'Roissy-en-France (95)', 'Châtillon (92)', 'Paris (75)', 'Paris (75)', 'Paris (75)', 'Paris (75)', 'Paris 10e (75)', 'Bourg-la-Reine (92)', 'Paris (75)', 'Saint-Denis (93)', 'Paris 16e (75)', 'Gentilly (94)', 'Paris 11e (75)', 'Nanterre (92)', 'Nanterre (92)', 'Puteaux (92)', 'Rungis (94)', 'Paris (75)', 'Sucy-en-Brie (94)', 'Paris', 'Paris (75)', 'Paris (75)', 'La Défense (92)', 'Hauts-de-Seine', 'Bobigny (93)', 'Paris 13e (75)', 'Paris 20e (75)', 'Aubervilliers (93)', 'Paris 10e (75)', 'Paris (75)', 'Paris (75)', 'Paris (75)', 'La Courneuve (93)', 'Paris (75)', 'Asnières-sur-Seine (92)', 'Paris (75)', 'Charenton-le-Pont (94)', 'La Défense (92)', 'Paris (75)', 'Issy-les-Moulineaux (92)', 'La Défense (92)', 'Nanterre (92)', 'Saint-Ouen (93)', 'Charenton-le-Pont (94)', 'Paris 1er (75)', 'Paris (75)', 'Courbevoie (92)', 'Bougival (78)', 'Paris 14e (75)', 'Île-de-France', 'Paris (75)', 'Roissy-en-France (95)', 'Montrouge (92)', 'Paris (75)', 'Arcueil (94)', 'Cachan (94)', 'Arcueil (94)', 'Paris (75)', 'Paris 13e (75)', 'Meudon (92)', 'Paris 15e (75)', 'Paris 13e (75)', 'Villepinte (93)', 'Massy (91)', 'Saint-Denis (93)', 'Paris 1er (75)', 'Colombes (92)', 'Paris (75)', 'Paris 1er (75)', 'Paris 8e (75)', 'Sarcelles (95)', 'Paris (75)', 'Goussainville (95)', 'Paris (75)', 'La Défense (92)', 'Arcueil (94)', 'Charenton-le-Pont (94)', 'Hauts-de-Seine', 'Paris (75)', 'Paris 2e (75)', 'Neuilly-sur-Seine (92)', 'La Défense (92)', 'Courbevoie (92)', 'Paris (75)', 'Saint-Ouen (93)', 'La Défense (92)', 'Massy (91)', 'Vitry-sur-Seine (94)', 'Paris 8e (75)', 'Paris (75)', 'Paris (75)', 'Paris 19e (75)', 'Paris (75)', 'Le Plessis-Robinson (92)', 'Levallois-Perret (92)', 'Paris (75)', 'Meudon (92)', 'Courbevoie (92)', 'Paris (75)', 'Malakoff (92)', 'Créteil (94)', 'Courbevoie (92)', 'Nanterre (92)', 'Villepinte (93)', 'Paris 12e (75)', 'Paris (75)', 'Créteil (94)', 'Paris (75)', 'Malakoff (92)', 'Paris (75)', 'Massy (91)', 'Meudon (92)', 'Paris (75)', 'Paris 1er (75)', 'Paris (75)', 'Paris (75)', 'Levallois-Perret (92)', 'Vélizy-Villacoublay (78)', 'Vélizy-Villacoublay (78)', 'Île-de-France']\n",
      "**************************************************\n",
      "129\n",
      "128\n",
      "129\n"
     ]
    }
   ],
   "source": [
    "print(titles_convert)\n",
    "print(companies_convert)\n",
    "print(locations_convert)\n",
    "\n",
    "print('*****'*10)\n",
    "\n",
    "print(len(titles_convert))\n",
    "print(len(companies_convert))\n",
    "print(len(locations_convert))"
   ]
  },
  {
   "cell_type": "code",
   "execution_count": 236,
   "metadata": {
    "collapsed": true
   },
   "outputs": [
    {
     "ename": "ValueError",
     "evalue": "arrays must all be same length",
     "output_type": "error",
     "traceback": [
      "\u001b[0;31m---------------------------------------------------------------------------\u001b[0m",
      "\u001b[0;31mValueError\u001b[0m                                Traceback (most recent call last)",
      "\u001b[0;32m<ipython-input-236-e36a3a8f9b63>\u001b[0m in \u001b[0;36m<module>\u001b[0;34m\u001b[0m\n\u001b[1;32m      1\u001b[0m \u001b[0md\u001b[0m \u001b[0;34m=\u001b[0m \u001b[0;34m{\u001b[0m\u001b[0;34m'Entreprise'\u001b[0m\u001b[0;34m:\u001b[0m\u001b[0mcompanies_convert\u001b[0m\u001b[0;34m,\u001b[0m \u001b[0;34m'Offre'\u001b[0m\u001b[0;34m:\u001b[0m \u001b[0mtitles_convert\u001b[0m\u001b[0;34m,\u001b[0m \u001b[0;34m'Lieu'\u001b[0m\u001b[0;34m:\u001b[0m \u001b[0mlocations_convert\u001b[0m\u001b[0;34m}\u001b[0m\u001b[0;34m\u001b[0m\u001b[0;34m\u001b[0m\u001b[0m\n\u001b[0;32m----> 2\u001b[0;31m \u001b[0mdf\u001b[0m \u001b[0;34m=\u001b[0m \u001b[0mpd\u001b[0m\u001b[0;34m.\u001b[0m\u001b[0mDataFrame\u001b[0m\u001b[0;34m(\u001b[0m\u001b[0mdata\u001b[0m\u001b[0;34m=\u001b[0m\u001b[0md\u001b[0m\u001b[0;34m)\u001b[0m\u001b[0;34m\u001b[0m\u001b[0;34m\u001b[0m\u001b[0m\n\u001b[0m\u001b[1;32m      3\u001b[0m \u001b[0mdf\u001b[0m\u001b[0;34m.\u001b[0m\u001b[0mto_csv\u001b[0m\u001b[0;34m(\u001b[0m\u001b[0;34m'scrap_indeed.csv'\u001b[0m\u001b[0;34m,\u001b[0m\u001b[0mindex\u001b[0m\u001b[0;34m=\u001b[0m\u001b[0;32mFalse\u001b[0m\u001b[0;34m)\u001b[0m\u001b[0;34m\u001b[0m\u001b[0;34m\u001b[0m\u001b[0m\n",
      "\u001b[0;32m~/opt/anaconda3/lib/python3.7/site-packages/pandas/core/frame.py\u001b[0m in \u001b[0;36m__init__\u001b[0;34m(self, data, index, columns, dtype, copy)\u001b[0m\n\u001b[1;32m    433\u001b[0m             )\n\u001b[1;32m    434\u001b[0m         \u001b[0;32melif\u001b[0m \u001b[0misinstance\u001b[0m\u001b[0;34m(\u001b[0m\u001b[0mdata\u001b[0m\u001b[0;34m,\u001b[0m \u001b[0mdict\u001b[0m\u001b[0;34m)\u001b[0m\u001b[0;34m:\u001b[0m\u001b[0;34m\u001b[0m\u001b[0;34m\u001b[0m\u001b[0m\n\u001b[0;32m--> 435\u001b[0;31m             \u001b[0mmgr\u001b[0m \u001b[0;34m=\u001b[0m \u001b[0minit_dict\u001b[0m\u001b[0;34m(\u001b[0m\u001b[0mdata\u001b[0m\u001b[0;34m,\u001b[0m \u001b[0mindex\u001b[0m\u001b[0;34m,\u001b[0m \u001b[0mcolumns\u001b[0m\u001b[0;34m,\u001b[0m \u001b[0mdtype\u001b[0m\u001b[0;34m=\u001b[0m\u001b[0mdtype\u001b[0m\u001b[0;34m)\u001b[0m\u001b[0;34m\u001b[0m\u001b[0;34m\u001b[0m\u001b[0m\n\u001b[0m\u001b[1;32m    436\u001b[0m         \u001b[0;32melif\u001b[0m \u001b[0misinstance\u001b[0m\u001b[0;34m(\u001b[0m\u001b[0mdata\u001b[0m\u001b[0;34m,\u001b[0m \u001b[0mma\u001b[0m\u001b[0;34m.\u001b[0m\u001b[0mMaskedArray\u001b[0m\u001b[0;34m)\u001b[0m\u001b[0;34m:\u001b[0m\u001b[0;34m\u001b[0m\u001b[0;34m\u001b[0m\u001b[0m\n\u001b[1;32m    437\u001b[0m             \u001b[0;32mimport\u001b[0m \u001b[0mnumpy\u001b[0m\u001b[0;34m.\u001b[0m\u001b[0mma\u001b[0m\u001b[0;34m.\u001b[0m\u001b[0mmrecords\u001b[0m \u001b[0;32mas\u001b[0m \u001b[0mmrecords\u001b[0m\u001b[0;34m\u001b[0m\u001b[0;34m\u001b[0m\u001b[0m\n",
      "\u001b[0;32m~/opt/anaconda3/lib/python3.7/site-packages/pandas/core/internals/construction.py\u001b[0m in \u001b[0;36minit_dict\u001b[0;34m(data, index, columns, dtype)\u001b[0m\n\u001b[1;32m    252\u001b[0m             \u001b[0marr\u001b[0m \u001b[0;32mif\u001b[0m \u001b[0;32mnot\u001b[0m \u001b[0mis_datetime64tz_dtype\u001b[0m\u001b[0;34m(\u001b[0m\u001b[0marr\u001b[0m\u001b[0;34m)\u001b[0m \u001b[0;32melse\u001b[0m \u001b[0marr\u001b[0m\u001b[0;34m.\u001b[0m\u001b[0mcopy\u001b[0m\u001b[0;34m(\u001b[0m\u001b[0;34m)\u001b[0m \u001b[0;32mfor\u001b[0m \u001b[0marr\u001b[0m \u001b[0;32min\u001b[0m \u001b[0marrays\u001b[0m\u001b[0;34m\u001b[0m\u001b[0;34m\u001b[0m\u001b[0m\n\u001b[1;32m    253\u001b[0m         ]\n\u001b[0;32m--> 254\u001b[0;31m     \u001b[0;32mreturn\u001b[0m \u001b[0marrays_to_mgr\u001b[0m\u001b[0;34m(\u001b[0m\u001b[0marrays\u001b[0m\u001b[0;34m,\u001b[0m \u001b[0mdata_names\u001b[0m\u001b[0;34m,\u001b[0m \u001b[0mindex\u001b[0m\u001b[0;34m,\u001b[0m \u001b[0mcolumns\u001b[0m\u001b[0;34m,\u001b[0m \u001b[0mdtype\u001b[0m\u001b[0;34m=\u001b[0m\u001b[0mdtype\u001b[0m\u001b[0;34m)\u001b[0m\u001b[0;34m\u001b[0m\u001b[0;34m\u001b[0m\u001b[0m\n\u001b[0m\u001b[1;32m    255\u001b[0m \u001b[0;34m\u001b[0m\u001b[0m\n\u001b[1;32m    256\u001b[0m \u001b[0;34m\u001b[0m\u001b[0m\n",
      "\u001b[0;32m~/opt/anaconda3/lib/python3.7/site-packages/pandas/core/internals/construction.py\u001b[0m in \u001b[0;36marrays_to_mgr\u001b[0;34m(arrays, arr_names, index, columns, dtype)\u001b[0m\n\u001b[1;32m     62\u001b[0m     \u001b[0;31m# figure out the index, if necessary\u001b[0m\u001b[0;34m\u001b[0m\u001b[0;34m\u001b[0m\u001b[0;34m\u001b[0m\u001b[0m\n\u001b[1;32m     63\u001b[0m     \u001b[0;32mif\u001b[0m \u001b[0mindex\u001b[0m \u001b[0;32mis\u001b[0m \u001b[0;32mNone\u001b[0m\u001b[0;34m:\u001b[0m\u001b[0;34m\u001b[0m\u001b[0;34m\u001b[0m\u001b[0m\n\u001b[0;32m---> 64\u001b[0;31m         \u001b[0mindex\u001b[0m \u001b[0;34m=\u001b[0m \u001b[0mextract_index\u001b[0m\u001b[0;34m(\u001b[0m\u001b[0marrays\u001b[0m\u001b[0;34m)\u001b[0m\u001b[0;34m\u001b[0m\u001b[0;34m\u001b[0m\u001b[0m\n\u001b[0m\u001b[1;32m     65\u001b[0m     \u001b[0;32melse\u001b[0m\u001b[0;34m:\u001b[0m\u001b[0;34m\u001b[0m\u001b[0;34m\u001b[0m\u001b[0m\n\u001b[1;32m     66\u001b[0m         \u001b[0mindex\u001b[0m \u001b[0;34m=\u001b[0m \u001b[0mensure_index\u001b[0m\u001b[0;34m(\u001b[0m\u001b[0mindex\u001b[0m\u001b[0;34m)\u001b[0m\u001b[0;34m\u001b[0m\u001b[0;34m\u001b[0m\u001b[0m\n",
      "\u001b[0;32m~/opt/anaconda3/lib/python3.7/site-packages/pandas/core/internals/construction.py\u001b[0m in \u001b[0;36mextract_index\u001b[0;34m(data)\u001b[0m\n\u001b[1;32m    363\u001b[0m             \u001b[0mlengths\u001b[0m \u001b[0;34m=\u001b[0m \u001b[0mlist\u001b[0m\u001b[0;34m(\u001b[0m\u001b[0mset\u001b[0m\u001b[0;34m(\u001b[0m\u001b[0mraw_lengths\u001b[0m\u001b[0;34m)\u001b[0m\u001b[0;34m)\u001b[0m\u001b[0;34m\u001b[0m\u001b[0;34m\u001b[0m\u001b[0m\n\u001b[1;32m    364\u001b[0m             \u001b[0;32mif\u001b[0m \u001b[0mlen\u001b[0m\u001b[0;34m(\u001b[0m\u001b[0mlengths\u001b[0m\u001b[0;34m)\u001b[0m \u001b[0;34m>\u001b[0m \u001b[0;36m1\u001b[0m\u001b[0;34m:\u001b[0m\u001b[0;34m\u001b[0m\u001b[0;34m\u001b[0m\u001b[0m\n\u001b[0;32m--> 365\u001b[0;31m                 \u001b[0;32mraise\u001b[0m \u001b[0mValueError\u001b[0m\u001b[0;34m(\u001b[0m\u001b[0;34m\"arrays must all be same length\"\u001b[0m\u001b[0;34m)\u001b[0m\u001b[0;34m\u001b[0m\u001b[0;34m\u001b[0m\u001b[0m\n\u001b[0m\u001b[1;32m    366\u001b[0m \u001b[0;34m\u001b[0m\u001b[0m\n\u001b[1;32m    367\u001b[0m             \u001b[0;32mif\u001b[0m \u001b[0mhave_dicts\u001b[0m\u001b[0;34m:\u001b[0m\u001b[0;34m\u001b[0m\u001b[0;34m\u001b[0m\u001b[0m\n",
      "\u001b[0;31mValueError\u001b[0m: arrays must all be same length"
     ]
    }
   ],
   "source": [
    "d = {'Entreprise':companies_convert, 'Offre': titles_convert, 'Lieu': locations_convert}\n",
    "df = pd.DataFrame(data=d)\n",
    "df.to_csv('scrap_indeed.csv',index=False)"
   ]
  },
  {
   "cell_type": "markdown",
   "metadata": {},
   "source": [
    "# Selenium :  en cliquant sur chaque anonce"
   ]
  },
  {
   "cell_type": "code",
   "execution_count": 3,
   "metadata": {},
   "outputs": [],
   "source": [
    "# DEMARRAGE DE SELENIUM\n",
    "browser = webdriver.Chrome()\n",
    "browser.maximize_window()\n",
    "browser.get('https://www.indeed.fr/')\n",
    "\n",
    "# ENTREZ LES MOTS CLEFS A RECHERCHER (ex : Alternance data)\n",
    "input_bar = browser.find_element_by_xpath('//*[@id=\"text-input-what\"]').send_keys('Alternance data')\n",
    "\n",
    "# Time sleep\n",
    "time.sleep(random.randrange(0,2))\n",
    "\n",
    "# ENTREZ LA LOCATION (ex: Paris)\n",
    "# A revoir\n",
    "\n",
    "# Time sleep\n",
    "time.sleep(random.randrange(0,2))\n",
    "\n",
    "# INPUT LA RECHERCHE\n",
    "input_recherche = browser.find_element_by_xpath('/html/body/div[1]/div[4]/div[1]/div/div/div/form/div[3]/button').click()\n",
    "\n",
    "# Filter a 24 dernieres heures (1/2)\n",
    "date = browser.find_element_by_id('filter-dateposted').click()\n",
    "\n",
    "# Time sleep\n",
    "time.sleep(random.randrange(0,1))\n",
    "\n",
    "# Filter a 24 dernieres heures (2/2)\n",
    "one_day = browser.find_element_by_partial_link_text('Dernières').click()\n",
    "#three_days = browser.find_element_by_partial_link_text('3 derniers jours').click()\n",
    "#seven_days = browser.find_element_by_partial_link_text('7 derniers jours').click()\n",
    "#fourteen_days = browser.find_element_by_partial_link_text('14 derniers jours').click()\n",
    "\n",
    "# Time sleep\n",
    "time.sleep(2)\n",
    "\n",
    "# Si fenêtre du mail apparait, pour fermer cette fenêtre\n",
    "try:\n",
    "    browser.find_element_by_css_selector('[aria-label=\"Close\"]').click()\n",
    "except:\n",
    "    pass\n",
    "\n",
    "# Time sleep\n",
    "time.sleep(random.randrange(0,1))\n",
    "\n",
    "# VARIABLES\n",
    "titles = []\n",
    "companies = []\n",
    "locations = []\n",
    "urls = []\n",
    "i = 0\n",
    "page = True\n",
    "browser.execute_script(\"window.scrollTo(0, 200)\")\n",
    "\n",
    "while page:\n",
    "    try:\n",
    "        liste_test = browser.find_elements_by_css_selector(\"[data-tn-element='jobTitle']\")\n",
    "        for i in range(0,len(liste_test)):\n",
    "            # Time sleep\n",
    "            time.sleep(1)\n",
    "            # job annonce click\n",
    "            job = liste_test[i].click()\n",
    "            # Time sleep\n",
    "            time.sleep(random.randrange(1,2))\n",
    "\n",
    "            # TITLE\n",
    "            try:\n",
    "                title = browser.find_element_by_id('vjs-jobtitle').text\n",
    "            except:\n",
    "                title = 'N/A'\n",
    "\n",
    "            #ENTREPRISE\n",
    "            try:\n",
    "                company = browser.find_element_by_css_selector('[rel=\"nofollow noopener\"]').text\n",
    "            except Exception:\n",
    "                pass\n",
    "            try:\n",
    "                company = browser.find_element_by_id('vjs-cn').text\n",
    "            except:\n",
    "                company = 'N/A'\n",
    "\n",
    "            # LOCATION\n",
    "            try:\n",
    "                location = browser.find_element_by_id(\"vjs-loc\").text\n",
    "            except:\n",
    "                location = 'N/A'\n",
    "\n",
    "            # URL\n",
    "            try: \n",
    "                url = browser.current_url\n",
    "            except:\n",
    "                url = 'N/A'\n",
    "\n",
    "            # Time sleep\n",
    "            time.sleep(random.randrange(0,1))\n",
    "\n",
    "            # Remplir nos listes\n",
    "            titles.append(title)\n",
    "            companies.append(company)\n",
    "            locations.append(location)\n",
    "            urls.append(url)\n",
    "\n",
    "            # Scroll \n",
    "            #browser.execute_script(\"window.scrollTo(0, 800)\")\n",
    "            browser.execute_script(\"window.scrollTo(0, document.body.scrollHeight);\")\n",
    "\n",
    "            # Incrementation\n",
    "            i += 1\n",
    "\n",
    "            # Time sleep\n",
    "            # time.sleep(1)\n",
    "\n",
    "        browser.execute_script(\"window.scrollTo(0, 6000)\")\n",
    "        \n",
    "        try:\n",
    "            arrow = browser.find_element_by_css_selector('[aria-label=\"Suivant\"]').click()\n",
    "            #print(f'page{i}')\n",
    "        except:\n",
    "            page = False\n",
    "        \n",
    "    except:\n",
    "        #page = False\n",
    "        print(\"c'est fini\")\n",
    "        break\n",
    "\n",
    "# FERMETURE DU BROWSER\n",
    "browser.close()\n"
   ]
  },
  {
   "cell_type": "code",
   "execution_count": 4,
   "metadata": {},
   "outputs": [
    {
     "name": "stdout",
     "output_type": "stream",
     "text": [
      "['Data Engineer (F/H) - France', 'Data Analyst (Alternance)', 'Alternance - Assistant Directeur Data Management (H/F)', 'Développeur web full stack H/F pour ERP en alternance', 'Data analyste informatique - CDI (H/F)', 'DATA SCIENTIST H/F', 'Data scientist', 'Data Scientist (Internship)', 'Alternance - Assistant(E) Achats Et Développement Props & Pack (F/H)', 'Data Scientist - Paris', 'ASSISTANT(E) ADMINISTRATION DES VENTES EN ALTERNANCE (H/F)', 'Assistante de Direction et Ressources Humaines H/F - Alternance', 'Data analyst (H/F)', 'Chargé de paie et administration du personnel (Alternance) - H/F', 'Data Scientist F/H', 'DATA OFFICER/DATA ANALYSTE - MNC - H/F', 'Alternance – AMO Data Scientist H/F', 'Data Analyst (internship)', 'Data scientist + 3ans', 'Data analyst - odds', 'Data Engineer - McKinsey Analytics', 'ALTERNANCE - Assistant Gestion risques de bilan H/F', 'DATA ANALYST - DATA VISUALISATION', 'Market Data Analyst (H/F) CDD', 'Alternance Assistant(e) Project Management Office SAP H/F', 'Data Engineer h/f', 'Assistant de gestion locative en alternance F/H', 'Apache Beam Big Data Engineer (H/F) -75 / Freelance', 'Chargé relation client (F-H) - Paris - Alternance F/H', 'DATA ANALYST SENIOR H/F', 'Alternance - Assistant(e) de Manager', 'Data Scientist Senior f/m', 'DATA ANALYST (F/H)', 'Stage - Chargé de projet « Asset Servicing Management » H/F', 'Alternance - Assistant administratif et financier F/H', 'Assistant Qualité Alternance H/F', 'Alternance 24 mois - Chargé de développement expérience collaborateur H/F - Paris 13ème', 'Stage / Alternance Assistant(e) Qualité et opération H/F', 'Chargé(e) de projet conformité (H/F) – STAGE/ANNEE CESURE', 'CHARGE(E) DE PROJET RASSEMBLEMENT EUROPEEN (H/F)', 'Data Scientist Expert H/F', 'Chargé de Reporting & Data Finance – @PwC Neuilly-sur-Seine – CDI – H/F', 'Chargé de projets H/F', 'Alternance - chargé de gestion F/H', 'Stage Chargé(e) De Projet Procédures', 'Chargé.e de projets en urbanisme durable F/H', \"Alternance - Chargé d'Affaires SAS H/F\", 'CHARGE(E) DE PROJET GOODIES', 'Chargé/Chargée de projet évènementiel & E-CRM F/H', 'ASSISTANT CASH MANAGER EN ALTERNANCE (H/F)', 'Assistant administratif RH – Alternance (H/F)', 'Assistant de direction H/F en alternance', 'CHARGÉ(E) DE COMMUNICATION & MARKETING - ALTERNANCE', 'CHARGE DE PROJETS ASSURANCE ANGLAIS ESPAGNOL H/F', 'Chargé de projet Metiers HSE F/H', 'Chargé de projets finance H/F', 'Chargé(e) de communication - Alternance', 'ANALYSTE DEVELOPPEUR BI (F/H)', 'Alternance - Chargé de Marketing et Communication Digitale (H/F)', 'Assistant Marketing Web et Réseaux Sociaux H/F - Alternance', 'Alternant Chef de projet Marketing, communication et chargé(e) de clientèle']\n",
      "########################################\n",
      "['Finalcad', 'Supermood', 'Publicis Media', 'VASPP', 'Human Job', 'Garantme', 'EGROUPE', 'Supermood', 'Louis Vuitton', 'Dataiku', 'Acensi', 'ELYAS CONSEIL', 'PHENIX', 'Showroomprive.com', 'Jobboards', 'La Banque de France', 'Air France-KLM', 'SimpliField', 'Sept Lieues', 'Pandascore', 'McKinsey & Company', 'La Banque Postale', 'Harnham', 'NATIXIS', 'Total', 'Selescope', 'G2F Conseil', 'Club Freelance', 'Générationnel', 'Aldi', 'Veolia', 'Rakuten France', 'Randstad Inhouse', 'Amundi Asset Management', 'Linkednutri', 'LLFC', 'NATIXIS', 'SOCIÉTÉ ALIMENTAIRE', 'Nexity', 'SGDF', 'Umanis', 'PwC', 'BBJ', 'mozaik RH', 'FCM Travel Solutions', 'LESENR', 'SMAC', 'Facilitess', 'AMNESTY INTERNATIONAL SECTION FRANCAISE', 'TALENTIS HORIZON', 'Gefco', 'Le Sanctuaire Holding', 'Orthlane', 'MS GROUP Paris', 'BUREAU VERITAS', 'HAYS', 'Kuehne+Nagel', 'Expectra.fr', 'Carrefour', 'ISCOD', '2SI - Evolukid']\n",
      "########################################\n",
      "['- Paris (75)', '- Paris (75)', '- Paris (75)', '- Paris 9e (75)', '- Paris 15e (75)', '- Paris (75)', '- Paris (75)', '- Paris (75)', '- Paris (75)', '- Paris (75)', '- Paris (75)', '- Paris 16e (75)', '- Paris 17e (75)', '- Saint-Denis (93)', '- Gentilly (94)', '- Paris (75)', '- Roissy-en-France (95)', '- Paris (75)', '- Paris (75)', '- Paris (75)', '- Paris (75)', '- Paris (75)', '- Paris (75)', '- Paris (75)', '- Nanterre (92)', '- Île-de-France', '- Île-de-France', '- Paris (75)', '- Paris 10e (75)', '- Villepinte (93)', '- Aubervilliers (93)', '- Paris 2e (75)', '- Courbevoie (92)', '- Paris (75)', '- Cachan (94)', '- Bobigny (93)', '- Paris (75)', '- Sucy-en-Brie (94)', '- Paris 8e (75)', '- Arcueil (94)', '- Levallois-Perret (92)', '- Neuilly-sur-Seine (92)', '- Rueil-Malmaison (92)', '- Paris 13e (75)', '- Paris 8e (75)', '- Malakoff (92)', '- Sarcelles (95)', '- Charenton-le-Pont (94)', '- Paris 19e (75)', '- Hauts-de-Seine', '- Puteaux (92)', '- Courbevoie (92)', '- La Courneuve (93)', '- Levallois-Perret (92)', '- La Défense (92)', '- Paris (75)', '- Paris (75)', '- Paris (75)', '- Massy (91)', '- Bourg-la-Reine (92)', '- Nanterre (92)']\n",
      "########################################\n",
      "['https://www.indeed.fr/jobs?q=Alternance%20data&l=Paris%20(75)&fromage=1&advn=190761308337259&vjk=e7a352628c185e5a', 'https://www.indeed.fr/jobs?q=Alternance%20data&l=Paris%20(75)&fromage=1&vjk=65983b233da0f56d', 'https://www.indeed.fr/jobs?q=Alternance%20data&l=Paris%20(75)&fromage=1&vjk=cb08e945525e4134', 'https://www.indeed.fr/jobs?q=Alternance%20data&l=Paris%20(75)&fromage=1&vjk=0e15ffaf1e8eabd4', 'https://www.indeed.fr/jobs?q=Alternance%20data&l=Paris%20(75)&fromage=1&vjk=88111c205af77030&advn=2715648309700515', 'https://www.indeed.fr/jobs?q=Alternance%20data&l=Paris%20(75)&fromage=1&vjk=4a0f3fd429827ef7', 'https://www.indeed.fr/jobs?q=Alternance%20data&l=Paris%20(75)&fromage=1&vjk=c6a15b071035c70e&advn=2715648309700515', 'https://www.indeed.fr/jobs?q=Alternance%20data&l=Paris%20(75)&fromage=1&vjk=2e73252ecb6221ac', 'https://www.indeed.fr/jobs?q=Alternance%20data&l=Paris%20(75)&fromage=1&vjk=11221a73cdf3c18e', 'https://www.indeed.fr/jobs?q=Alternance%20data&l=Paris%20(75)&fromage=1&vjk=2319caacffe878a6', 'https://www.indeed.fr/jobs?q=Alternance%20data&l=Paris%20(75)&fromage=1&vjk=cd8774429e04a0d1', 'https://www.indeed.fr/jobs?q=Alternance%20data&l=Paris%20(75)&fromage=1&vjk=7709d09c8d9a08d3', 'https://www.indeed.fr/jobs?q=Alternance%20data&l=Paris%20(75)&fromage=1&vjk=1b1ff56086ef1f30', 'https://www.indeed.fr/jobs?q=Alternance%20data&l=Paris%20(75)&fromage=1&vjk=c735fc225229a194', 'https://www.indeed.fr/jobs?q=Alternance%20data&l=Paris%20(75)&fromage=1&vjk=1823973915b43b12', 'https://www.indeed.fr/jobs?q=Alternance%20data&l=Paris%20(75)&fromage=1&start=10&vjk=a5b0799c76f9686c', 'https://www.indeed.fr/jobs?q=Alternance%20data&l=Paris%20(75)&fromage=1&start=10&vjk=cf84805b32cbd065', 'https://www.indeed.fr/jobs?q=Alternance%20data&l=Paris%20(75)&fromage=1&start=10&vjk=06dd782251355b73', 'https://www.indeed.fr/jobs?q=Alternance%20data&l=Paris%20(75)&fromage=1&start=10&vjk=91018afba1f113b1', 'https://www.indeed.fr/jobs?q=Alternance%20data&l=Paris%20(75)&fromage=1&start=10&vjk=dba3acb016f3cb68', 'https://www.indeed.fr/jobs?q=Alternance%20data&l=Paris%20(75)&fromage=1&start=10&vjk=5170baeee9e9137b', 'https://www.indeed.fr/jobs?q=Alternance%20data&l=Paris%20(75)&fromage=1&start=10&vjk=b03b64ab9ab1a107', 'https://www.indeed.fr/jobs?q=Alternance%20data&l=Paris%20(75)&fromage=1&start=10&vjk=bc2e2527b5242091', 'https://www.indeed.fr/jobs?q=Alternance%20data&l=Paris%20(75)&fromage=1&start=10&vjk=a1240ed60403ad5c', 'https://www.indeed.fr/jobs?q=Alternance%20data&l=Paris%20(75)&fromage=1&start=10&vjk=f5b2a019af5b8143', 'https://www.indeed.fr/jobs?q=Alternance%20data&l=Paris%20(75)&fromage=1&start=10&vjk=22f556fce9cd2567', 'https://www.indeed.fr/jobs?q=Alternance%20data&l=Paris%20(75)&fromage=1&start=10&vjk=a7ee77795aedab5f', 'https://www.indeed.fr/jobs?q=Alternance%20data&l=Paris%20(75)&fromage=1&start=10&vjk=7e5cad25d8a2c0e4', 'https://www.indeed.fr/jobs?q=Alternance%20data&l=Paris%20(75)&fromage=1&start=10&vjk=cdad0009d95e83ce', 'https://www.indeed.fr/jobs?q=Alternance%20data&l=Paris%20(75)&fromage=1&start=10&vjk=edd7e4725d4efd09', 'https://www.indeed.fr/jobs?q=Alternance%20data&l=Paris%20(75)&fromage=1&start=20&vjk=da256b39ce94a62c', 'https://www.indeed.fr/jobs?q=Alternance%20data&l=Paris%20(75)&fromage=1&start=20&vjk=5785e14085c17b31', 'https://www.indeed.fr/jobs?q=Alternance%20data&l=Paris%20(75)&fromage=1&start=20&vjk=57e30faeb698fb70', 'https://www.indeed.fr/jobs?q=Alternance%20data&l=Paris%20(75)&fromage=1&start=20&vjk=0cecb3c0775dad06', 'https://www.indeed.fr/jobs?q=Alternance%20data&l=Paris%20(75)&fromage=1&start=20&vjk=6cf8a3155e1886f6', 'https://www.indeed.fr/jobs?q=Alternance%20data&l=Paris%20(75)&fromage=1&start=20&vjk=607258834851b110', 'https://www.indeed.fr/jobs?q=Alternance%20data&l=Paris%20(75)&fromage=1&start=20&vjk=3cdfbb53ed6487de', 'https://www.indeed.fr/jobs?q=Alternance%20data&l=Paris%20(75)&fromage=1&start=20&vjk=d70822343f688048', 'https://www.indeed.fr/jobs?q=Alternance%20data&l=Paris%20(75)&fromage=1&start=20&vjk=b10a0668fccc7ed4', 'https://www.indeed.fr/jobs?q=Alternance%20data&l=Paris%20(75)&fromage=1&start=20&vjk=4ebd1137771d3c0f', 'https://www.indeed.fr/jobs?q=Alternance%20data&l=Paris%20(75)&fromage=1&start=20&vjk=4dfa32240f16f764', 'https://www.indeed.fr/jobs?q=Alternance%20data&l=Paris%20(75)&fromage=1&start=20&vjk=4b06a7f9dc2ecec0', 'https://www.indeed.fr/jobs?q=Alternance%20data&l=Paris%20(75)&fromage=1&start=20&vjk=abed821f3d0d3611', 'https://www.indeed.fr/jobs?q=Alternance%20data&l=Paris%20(75)&fromage=1&start=20&vjk=085a84e1c4481e7b', 'https://www.indeed.fr/jobs?q=Alternance%20data&l=Paris%20(75)&fromage=1&start=20&vjk=ae5af9e9e9d18375', 'https://www.indeed.fr/jobs?q=Alternance%20data&l=Paris%20(75)&fromage=1&start=30&vjk=64097b5eb961c439', 'https://www.indeed.fr/jobs?q=Alternance%20data&l=Paris%20(75)&fromage=1&start=30&vjk=53fbd99ace609479', 'https://www.indeed.fr/jobs?q=Alternance%20data&l=Paris%20(75)&fromage=1&start=30&vjk=4ba1779c160dd4fb', 'https://www.indeed.fr/jobs?q=Alternance%20data&l=Paris%20(75)&fromage=1&start=30&vjk=a405ec96db71c92f', 'https://www.indeed.fr/jobs?q=Alternance%20data&l=Paris%20(75)&fromage=1&start=30&vjk=f3b23f994b6a299f', 'https://www.indeed.fr/jobs?q=Alternance%20data&l=Paris%20(75)&fromage=1&start=30&vjk=540dd443e299eb54', 'https://www.indeed.fr/jobs?q=Alternance%20data&l=Paris%20(75)&fromage=1&start=30&vjk=03e63b06345647f7', 'https://www.indeed.fr/jobs?q=Alternance%20data&l=Paris%20(75)&fromage=1&start=30&vjk=0ee233fd2ef57bb7', 'https://www.indeed.fr/jobs?q=Alternance%20data&l=Paris%20(75)&fromage=1&start=30&vjk=3ef5a72421b86333', 'https://www.indeed.fr/jobs?q=Alternance%20data&l=Paris%20(75)&fromage=1&start=30&vjk=cc116ef98995c0bf', 'https://www.indeed.fr/jobs?q=Alternance%20data&l=Paris%20(75)&fromage=1&start=30&vjk=fc34111dab2abe67', 'https://www.indeed.fr/jobs?q=Alternance%20data&l=Paris%20(75)&fromage=1&start=30&vjk=61ad7605ea7ef4fe', 'https://www.indeed.fr/jobs?q=Alternance%20data&l=Paris%20(75)&fromage=1&start=30&vjk=6aa308e9f5ba9e39', 'https://www.indeed.fr/jobs?q=Alternance%20data&l=Paris%20(75)&fromage=1&start=30&vjk=d5bef36b7bf29be3', 'https://www.indeed.fr/jobs?q=Alternance%20data&l=Paris%20(75)&fromage=1&start=30&vjk=dd9b16902c548a7e&advn=4629412499192798', 'https://www.indeed.fr/jobs?q=Alternance%20data&l=Paris%20(75)&fromage=1&start=40&vjk=2fcc0e56b5dda3fc']\n",
      "########################################\n",
      "61\n",
      "61\n",
      "61\n"
     ]
    }
   ],
   "source": [
    "print(titles)\n",
    "print(40*'#')\n",
    "\n",
    "print(companies)\n",
    "print(40*'#')\n",
    "\n",
    "print(locations)\n",
    "print(40*'#')\n",
    "\n",
    "print(urls)\n",
    "print(40*'#')\n",
    "\n",
    "print(len(titles))\n",
    "print(len(locations))\n",
    "print(len(urls))"
   ]
  },
  {
   "cell_type": "code",
   "execution_count": 11,
   "metadata": {},
   "outputs": [],
   "source": [
    "d = {'Entreprise':companies, 'Offre': title, 'Lieu': locations, 'URL':urls}\n",
    "df = pd.DataFrame(data=d)\n",
    "df.to_csv('../result_csv/scrap_indeed.csv',index=False)"
   ]
  },
  {
   "cell_type": "markdown",
   "metadata": {},
   "source": [
    "### Problème annexe : le changement de location par défaut "
   ]
  },
  {
   "cell_type": "code",
   "execution_count": null,
   "metadata": {},
   "outputs": [],
   "source": [
    "# ENTREZ LA LOCATION (ex: Paris)\n",
    "\n",
    "### !!!! ####\n",
    "### Difficulté avec la valeur par défaut --> SKIP Pour le moment\n",
    "        # 1. Supprimez la valeur par default, clear la bar de recherche\n",
    "#location_bar = browser.find_element_by_id('text-input-where')  #.clear()\n",
    "#location_bar.sendKeys(Keys.CONTROL, Keys.chord(\"a\")); # select all text in textbox\n",
    "#location_bar.sendKeys(Keys.BACK_SPACE); # delete it\n",
    "#location_bar.sendKeys(\"new text\"); # enter new text\n",
    "        # 2. Rentrez une nouvelle valeur\n",
    "#location_bar_2 = browser.find_element_by_id('text-input-where').send_keys('Paris')\n",
    "### !!!! ####"
   ]
  }
 ],
 "metadata": {
  "kernelspec": {
   "display_name": "Python 3",
   "language": "python",
   "name": "python3"
  },
  "language_info": {
   "codemirror_mode": {
    "name": "ipython",
    "version": 3
   },
   "file_extension": ".py",
   "mimetype": "text/x-python",
   "name": "python",
   "nbconvert_exporter": "python",
   "pygments_lexer": "ipython3",
   "version": "3.7.6"
  }
 },
 "nbformat": 4,
 "nbformat_minor": 4
}
