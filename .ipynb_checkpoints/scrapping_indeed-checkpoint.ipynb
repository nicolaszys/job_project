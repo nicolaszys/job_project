{
 "cells": [
  {
   "cell_type": "markdown",
   "metadata": {},
   "source": [
    "# Selenium"
   ]
  },
  {
   "cell_type": "code",
   "execution_count": 169,
   "metadata": {
    "collapsed": true
   },
   "outputs": [
    {
     "ename": "ElementClickInterceptedException",
     "evalue": "Message: element click intercepted: Element <a target=\"_blank\" id=\"jl_5170baeee9e9137b\" href=\"/rc/clk?jk=5170baeee9e9137b&amp;fccid=6576e7250aa78c3c&amp;vjs=3\" onmousedown=\"return rclk(this,jobmap[3],0);\" onclick=\"setRefineByCookie([]); return rclk(this,jobmap[3],true,0);\" rel=\"noopener nofollow\" title=\"Data Engineer - McKinsey Analytics\" class=\"jobtitle turnstileLink \" data-tn-element=\"jobTitle\">...</a> is not clickable at point (358, 583). Other element would receive the click: <div id=\"onetrust-policy\">...</div>\n  (Session info: chrome=80.0.3987.149)\n",
     "output_type": "error",
     "traceback": [
      "\u001b[0;31m---------------------------------------------------------------------------\u001b[0m",
      "\u001b[0;31mElementClickInterceptedException\u001b[0m          Traceback (most recent call last)",
      "\u001b[0;32m<ipython-input-169-570991ea1d42>\u001b[0m in \u001b[0;36m<module>\u001b[0;34m\u001b[0m\n\u001b[1;32m     67\u001b[0m \u001b[0;34m\u001b[0m\u001b[0m\n\u001b[1;32m     68\u001b[0m     \u001b[0;31m# job annonce click\u001b[0m\u001b[0;34m\u001b[0m\u001b[0;34m\u001b[0m\u001b[0;34m\u001b[0m\u001b[0m\n\u001b[0;32m---> 69\u001b[0;31m     \u001b[0mjob\u001b[0m \u001b[0;34m=\u001b[0m \u001b[0mliste_test\u001b[0m\u001b[0;34m[\u001b[0m\u001b[0mi\u001b[0m\u001b[0;34m]\u001b[0m\u001b[0;34m.\u001b[0m\u001b[0mclick\u001b[0m\u001b[0;34m(\u001b[0m\u001b[0;34m)\u001b[0m\u001b[0;34m\u001b[0m\u001b[0;34m\u001b[0m\u001b[0m\n\u001b[0m\u001b[1;32m     70\u001b[0m     \u001b[0;31m#job = browser.find_element_by_css_selector(\"[data-tn-element='jobTitle']\").click()\u001b[0m\u001b[0;34m\u001b[0m\u001b[0;34m\u001b[0m\u001b[0;34m\u001b[0m\u001b[0m\n\u001b[1;32m     71\u001b[0m \u001b[0;34m\u001b[0m\u001b[0m\n",
      "\u001b[0;32m~/opt/anaconda3/lib/python3.7/site-packages/selenium/webdriver/remote/webelement.py\u001b[0m in \u001b[0;36mclick\u001b[0;34m(self)\u001b[0m\n\u001b[1;32m     78\u001b[0m     \u001b[0;32mdef\u001b[0m \u001b[0mclick\u001b[0m\u001b[0;34m(\u001b[0m\u001b[0mself\u001b[0m\u001b[0;34m)\u001b[0m\u001b[0;34m:\u001b[0m\u001b[0;34m\u001b[0m\u001b[0;34m\u001b[0m\u001b[0m\n\u001b[1;32m     79\u001b[0m         \u001b[0;34m\"\"\"Clicks the element.\"\"\"\u001b[0m\u001b[0;34m\u001b[0m\u001b[0;34m\u001b[0m\u001b[0m\n\u001b[0;32m---> 80\u001b[0;31m         \u001b[0mself\u001b[0m\u001b[0;34m.\u001b[0m\u001b[0m_execute\u001b[0m\u001b[0;34m(\u001b[0m\u001b[0mCommand\u001b[0m\u001b[0;34m.\u001b[0m\u001b[0mCLICK_ELEMENT\u001b[0m\u001b[0;34m)\u001b[0m\u001b[0;34m\u001b[0m\u001b[0;34m\u001b[0m\u001b[0m\n\u001b[0m\u001b[1;32m     81\u001b[0m \u001b[0;34m\u001b[0m\u001b[0m\n\u001b[1;32m     82\u001b[0m     \u001b[0;32mdef\u001b[0m \u001b[0msubmit\u001b[0m\u001b[0;34m(\u001b[0m\u001b[0mself\u001b[0m\u001b[0;34m)\u001b[0m\u001b[0;34m:\u001b[0m\u001b[0;34m\u001b[0m\u001b[0;34m\u001b[0m\u001b[0m\n",
      "\u001b[0;32m~/opt/anaconda3/lib/python3.7/site-packages/selenium/webdriver/remote/webelement.py\u001b[0m in \u001b[0;36m_execute\u001b[0;34m(self, command, params)\u001b[0m\n\u001b[1;32m    631\u001b[0m             \u001b[0mparams\u001b[0m \u001b[0;34m=\u001b[0m \u001b[0;34m{\u001b[0m\u001b[0;34m}\u001b[0m\u001b[0;34m\u001b[0m\u001b[0;34m\u001b[0m\u001b[0m\n\u001b[1;32m    632\u001b[0m         \u001b[0mparams\u001b[0m\u001b[0;34m[\u001b[0m\u001b[0;34m'id'\u001b[0m\u001b[0;34m]\u001b[0m \u001b[0;34m=\u001b[0m \u001b[0mself\u001b[0m\u001b[0;34m.\u001b[0m\u001b[0m_id\u001b[0m\u001b[0;34m\u001b[0m\u001b[0;34m\u001b[0m\u001b[0m\n\u001b[0;32m--> 633\u001b[0;31m         \u001b[0;32mreturn\u001b[0m \u001b[0mself\u001b[0m\u001b[0;34m.\u001b[0m\u001b[0m_parent\u001b[0m\u001b[0;34m.\u001b[0m\u001b[0mexecute\u001b[0m\u001b[0;34m(\u001b[0m\u001b[0mcommand\u001b[0m\u001b[0;34m,\u001b[0m \u001b[0mparams\u001b[0m\u001b[0;34m)\u001b[0m\u001b[0;34m\u001b[0m\u001b[0;34m\u001b[0m\u001b[0m\n\u001b[0m\u001b[1;32m    634\u001b[0m \u001b[0;34m\u001b[0m\u001b[0m\n\u001b[1;32m    635\u001b[0m     \u001b[0;32mdef\u001b[0m \u001b[0mfind_element\u001b[0m\u001b[0;34m(\u001b[0m\u001b[0mself\u001b[0m\u001b[0;34m,\u001b[0m \u001b[0mby\u001b[0m\u001b[0;34m=\u001b[0m\u001b[0mBy\u001b[0m\u001b[0;34m.\u001b[0m\u001b[0mID\u001b[0m\u001b[0;34m,\u001b[0m \u001b[0mvalue\u001b[0m\u001b[0;34m=\u001b[0m\u001b[0;32mNone\u001b[0m\u001b[0;34m)\u001b[0m\u001b[0;34m:\u001b[0m\u001b[0;34m\u001b[0m\u001b[0;34m\u001b[0m\u001b[0m\n",
      "\u001b[0;32m~/opt/anaconda3/lib/python3.7/site-packages/selenium/webdriver/remote/webdriver.py\u001b[0m in \u001b[0;36mexecute\u001b[0;34m(self, driver_command, params)\u001b[0m\n\u001b[1;32m    319\u001b[0m         \u001b[0mresponse\u001b[0m \u001b[0;34m=\u001b[0m \u001b[0mself\u001b[0m\u001b[0;34m.\u001b[0m\u001b[0mcommand_executor\u001b[0m\u001b[0;34m.\u001b[0m\u001b[0mexecute\u001b[0m\u001b[0;34m(\u001b[0m\u001b[0mdriver_command\u001b[0m\u001b[0;34m,\u001b[0m \u001b[0mparams\u001b[0m\u001b[0;34m)\u001b[0m\u001b[0;34m\u001b[0m\u001b[0;34m\u001b[0m\u001b[0m\n\u001b[1;32m    320\u001b[0m         \u001b[0;32mif\u001b[0m \u001b[0mresponse\u001b[0m\u001b[0;34m:\u001b[0m\u001b[0;34m\u001b[0m\u001b[0;34m\u001b[0m\u001b[0m\n\u001b[0;32m--> 321\u001b[0;31m             \u001b[0mself\u001b[0m\u001b[0;34m.\u001b[0m\u001b[0merror_handler\u001b[0m\u001b[0;34m.\u001b[0m\u001b[0mcheck_response\u001b[0m\u001b[0;34m(\u001b[0m\u001b[0mresponse\u001b[0m\u001b[0;34m)\u001b[0m\u001b[0;34m\u001b[0m\u001b[0;34m\u001b[0m\u001b[0m\n\u001b[0m\u001b[1;32m    322\u001b[0m             response['value'] = self._unwrap_value(\n\u001b[1;32m    323\u001b[0m                 response.get('value', None))\n",
      "\u001b[0;32m~/opt/anaconda3/lib/python3.7/site-packages/selenium/webdriver/remote/errorhandler.py\u001b[0m in \u001b[0;36mcheck_response\u001b[0;34m(self, response)\u001b[0m\n\u001b[1;32m    240\u001b[0m                 \u001b[0malert_text\u001b[0m \u001b[0;34m=\u001b[0m \u001b[0mvalue\u001b[0m\u001b[0;34m[\u001b[0m\u001b[0;34m'alert'\u001b[0m\u001b[0;34m]\u001b[0m\u001b[0;34m.\u001b[0m\u001b[0mget\u001b[0m\u001b[0;34m(\u001b[0m\u001b[0;34m'text'\u001b[0m\u001b[0;34m)\u001b[0m\u001b[0;34m\u001b[0m\u001b[0;34m\u001b[0m\u001b[0m\n\u001b[1;32m    241\u001b[0m             \u001b[0;32mraise\u001b[0m \u001b[0mexception_class\u001b[0m\u001b[0;34m(\u001b[0m\u001b[0mmessage\u001b[0m\u001b[0;34m,\u001b[0m \u001b[0mscreen\u001b[0m\u001b[0;34m,\u001b[0m \u001b[0mstacktrace\u001b[0m\u001b[0;34m,\u001b[0m \u001b[0malert_text\u001b[0m\u001b[0;34m)\u001b[0m\u001b[0;34m\u001b[0m\u001b[0;34m\u001b[0m\u001b[0m\n\u001b[0;32m--> 242\u001b[0;31m         \u001b[0;32mraise\u001b[0m \u001b[0mexception_class\u001b[0m\u001b[0;34m(\u001b[0m\u001b[0mmessage\u001b[0m\u001b[0;34m,\u001b[0m \u001b[0mscreen\u001b[0m\u001b[0;34m,\u001b[0m \u001b[0mstacktrace\u001b[0m\u001b[0;34m)\u001b[0m\u001b[0;34m\u001b[0m\u001b[0;34m\u001b[0m\u001b[0m\n\u001b[0m\u001b[1;32m    243\u001b[0m \u001b[0;34m\u001b[0m\u001b[0m\n\u001b[1;32m    244\u001b[0m     \u001b[0;32mdef\u001b[0m \u001b[0m_value_or_default\u001b[0m\u001b[0;34m(\u001b[0m\u001b[0mself\u001b[0m\u001b[0;34m,\u001b[0m \u001b[0mobj\u001b[0m\u001b[0;34m,\u001b[0m \u001b[0mkey\u001b[0m\u001b[0;34m,\u001b[0m \u001b[0mdefault\u001b[0m\u001b[0;34m)\u001b[0m\u001b[0;34m:\u001b[0m\u001b[0;34m\u001b[0m\u001b[0;34m\u001b[0m\u001b[0m\n",
      "\u001b[0;31mElementClickInterceptedException\u001b[0m: Message: element click intercepted: Element <a target=\"_blank\" id=\"jl_5170baeee9e9137b\" href=\"/rc/clk?jk=5170baeee9e9137b&amp;fccid=6576e7250aa78c3c&amp;vjs=3\" onmousedown=\"return rclk(this,jobmap[3],0);\" onclick=\"setRefineByCookie([]); return rclk(this,jobmap[3],true,0);\" rel=\"noopener nofollow\" title=\"Data Engineer - McKinsey Analytics\" class=\"jobtitle turnstileLink \" data-tn-element=\"jobTitle\">...</a> is not clickable at point (358, 583). Other element would receive the click: <div id=\"onetrust-policy\">...</div>\n  (Session info: chrome=80.0.3987.149)\n"
     ]
    }
   ],
   "source": [
    "# ENTREZ LA LOCATION (ex: Paris)\n",
    "\n",
    "### !!!! ####\n",
    "### Difficulté avec la valeur par défaut --> SKIP Pour le moment\n",
    "        # 1. Supprimez la valeur par default, clear la bar de recherche\n",
    "#location_bar = browser.find_element_by_id('text-input-where')  #.clear()\n",
    "#location_bar.sendKeys(Keys.CONTROL, Keys.chord(\"a\")); # select all text in textbox\n",
    "#location_bar.sendKeys(Keys.BACK_SPACE); # delete it\n",
    "#location_bar.sendKeys(\"new text\"); # enter new text\n",
    "        # 2. Rentrez une nouvelle valeur\n",
    "#location_bar_2 = browser.find_element_by_id('text-input-where').send_keys('Paris')\n",
    "### !!!! ####\n",
    "\n"
   ]
  },
  {
   "cell_type": "markdown",
   "metadata": {},
   "source": [
    "# Selenium : en utilisant les find_xxxx(s) en liste\n",
    "\n",
    "**browser.find_elements_by_css_selector** : cela nous permet de retrouver les listes des éléments\n"
   ]
  },
  {
   "cell_type": "code",
   "execution_count": 174,
   "metadata": {},
   "outputs": [
    {
     "data": {
      "text/plain": [
       "'Assistant de direction H/F en alternance'"
      ]
     },
     "execution_count": 174,
     "metadata": {},
     "output_type": "execute_result"
    }
   ],
   "source": [
    "liste_title[0].text"
   ]
  },
  {
   "cell_type": "code",
   "execution_count": 187,
   "metadata": {},
   "outputs": [
    {
     "name": "stdout",
     "output_type": "stream",
     "text": [
      "['Assistant de direction H/F en alternance', 'Stage en Alternance : Assistant de laboratoire H/F', 'CHARGÉ(E) DE COMMUNICATION & MARKETING - ALTERNANCE', \"NLP DATA SCIENTIST (STAGE FIN D'ÉTUDES / ALTERNANCE)\", 'Stage - 6 mois - Data Scientist (H/F) - Paris 13ème', 'Alternance/Apprentissage/ Stage Chargé(e) Service Clientèle...', 'Assistant Chef de projets SI (Alternance) H/F', 'Data Scientist - F/H', 'Assistant de gestion H/F en alternance - APPRENTISSAGE', 'Data Engineer - McKinsey Analytics', 'Data Analyst (internship)', 'Alternance Assistant(e) de gestion entreprise-(H/F)']\n"
     ]
    }
   ],
   "source": [
    "titles_convert = []\n",
    "for title in liste_title:\n",
    "    title = title.text\n",
    "    titles_convert.append(title)\n",
    "    \n",
    "print(liste_convertie)"
   ]
  },
  {
   "cell_type": "code",
   "execution_count": 237,
   "metadata": {},
   "outputs": [],
   "source": [
    "def info():\n",
    "    liste_titles = browser.find_elements_by_css_selector(\"[data-tn-element='jobTitle']\")\n",
    "    liste_companies = browser.find_elements_by_css_selector(\"[class='company']\")\n",
    "    liste_locations = browser.find_elements_by_css_selector(\"[class='location accessible-contrast-color-location']\")\n",
    "\n",
    "    for title in liste_titles:\n",
    "        title = title.text\n",
    "        titles_convert.append(title)\n",
    "\n",
    "    for company in liste_companies:\n",
    "        company = company.text\n",
    "        companies_convert.append(company)\n",
    "\n",
    "    for location in liste_locations:\n",
    "        location = location.text\n",
    "        locations_convert.append(location)"
   ]
  },
  {
   "cell_type": "code",
   "execution_count": 284,
   "metadata": {},
   "outputs": [
    {
     "name": "stdout",
     "output_type": "stream",
     "text": [
      "You have no longer page to iterate\n"
     ]
    }
   ],
   "source": [
    "# DEMARRAGE DE SELENIUM\n",
    "browser = webdriver.Chrome()\n",
    "browser.maximize_window()\n",
    "browser.get('https://www.indeed.fr/')\n",
    "\n",
    "# ENTREZ LES MOTS CLEFS A RECHERCHER (ex : Alternance data)\n",
    "input_bar = browser.find_element_by_xpath('//*[@id=\"text-input-what\"]').send_keys('Alternance data')\n",
    "\n",
    "# Time sleep\n",
    "time.sleep(random.randrange(0,2))\n",
    "\n",
    "# ENTREZ LA LOCATION (ex: Paris)\n",
    "# A revoir\n",
    "\n",
    "# Time sleep\n",
    "time.sleep(random.randrange(0,2))\n",
    "\n",
    "# INPUT LA RECHERCHE\n",
    "input_recherche = browser.find_element_by_xpath('/html/body/div[1]/div[4]/div[1]/div/div/div/form/div[3]/button').click()\n",
    "\n",
    "# Filter a 24 dernieres heures (1/2)\n",
    "date = browser.find_element_by_id('filter-dateposted').click()\n",
    "\n",
    "# Time sleep\n",
    "time.sleep(random.randrange(0,2))\n",
    "\n",
    "# Filter a 24 dernieres heures (2/2)\n",
    "#one_day = browser.find_element_by_partial_link_text('Dernières').click()\n",
    "three_days = browser.find_element_by_partial_link_text('3 derniers jours').click()\n",
    "#seven_days = browser.find_element_by_partial_link_text('7 derniers jours').click()\n",
    "#fourteen_days = browser.find_element_by_partial_link_text('14 derniers jours').click()\n",
    "\n",
    "# Time sleep\n",
    "time.sleep(2)\n",
    "\n",
    "# Si fenêtre du mail apparait, pour fermer cette fenêtre\n",
    "try:\n",
    "    browser.find_element_by_css_selector('[aria-label=\"Close\"]').click()\n",
    "except:\n",
    "    pass\n",
    "\n",
    "# Time sleep\n",
    "time.sleep(random.randrange(0,2))\n",
    "\n",
    "# VARIABLES\n",
    "titles_convert = []\n",
    "companies_convert = []\n",
    "locations_convert = []\n",
    "urls_convert = []\n",
    "\n",
    "while True:\n",
    "    try:\n",
    "        info()\n",
    "        browser.execute_script(\"window.scrollTo(0, document.body.scrollHeight)\") \n",
    "        time.sleep(1)\n",
    "        arrow = browser.find_element_by_css_selector('[aria-label=\"Suivant\"]').click()\n",
    "    except NoSuchElementException :\n",
    "        print(\"You have no longer page to iterate\")\n",
    "        break\n",
    "\n",
    "# FERMETURE DU BROWSER\n",
    "browser.close()\n",
    "\n"
   ]
  },
  {
   "cell_type": "code",
   "execution_count": 285,
   "metadata": {
    "collapsed": true
   },
   "outputs": [
    {
     "name": "stdout",
     "output_type": "stream",
     "text": [
      "['Assistant(e) de Manager – BTS SAM en alternance - Rentrée Oc...', 'Chargé de projet digital Marketing Epargne', 'Market Data Analyst (H/F) CDD', 'Data analyste informatique - CDI (H/F)', 'Alternance : Chargé de communication Editoriale et Relations...', 'DATA SCIENTIST H/F', 'Alternance - Assistant Directeur Data Management (H/F)', 'Data analyst (H/F)', \"NLP DATA SCIENTIST (STAGE FIN D'ÉTUDES / ALTERNANCE)\", 'Alternance – AMO Data Scientist H/F', 'Alternance Développeur Web/IHM F/H', 'DATA OFFICER/DATA ANALYSTE - MNC - H/F', 'Data Analyst (internship)', 'Data Scientist H/F', 'Alternance - Assistant(E) Achats Et Développement Props & Pa...', 'Chargé(e) de Projets Marketing et Communication Digitale', 'Assistant Marketing Web et Réseaux Sociaux H/F - Alternance', 'Stage - 6 mois - Data Scientist (H/F) - Paris 13ème', 'Chargé de paie et administration du personnel (Alternance) -...', 'Assistante de Direction et Ressources Humaines H/F - Alterna...', 'Data Scientist F/H', 'Biostatisticien & Data Scientist', 'Alternance Assistant(e) Project Management Office SAP H/F', 'Alternance Assistant(e) de gestion entreprise-(H/F)', 'Assistant administratif RH – Alternance (H/F)', \"Alternance- Chargé d'études Marketing H/F\", 'Chargé de recrutement - ALTERNANCE (H/F)', 'Stage / Alternance Assistant(e) Qualité et opération H/F', 'Data Scientist H/F (2020-15786)', 'Data scientist', 'Data Engineer (F/H) - France', 'Contrat en alternance - Alternance : Chargé de communication...', 'Data Scientist Expert H/F', 'Assistant Qualité Alternance H/F', 'Alternance - 1 à 2 ans - Assistant Analyste ESG - Paris 13èm...', 'Alternance - Chargé(e) de développement RH', 'Alternance - Assistant(e) de Manager', 'Chargé relation client (F-H) - Paris - Alternance F/H', 'Alternance - Chargé(e) de Communication / Marque Employeur -...', 'Market Data Analyst (H/F) CDD', 'Data analyst - odds', 'CHARGÉ(E) DE COMMUNICATION & MARKETING - ALTERNANCE', 'Data Engineer - McKinsey Analytics', \"Contrat en alternance - Chargé d'affaires / développement de...\", 'Alternance 24 mois - Chargé de développement expérience coll...', 'Assistant administratif et commercial H/F - Alternance - Cha...', 'Contrat en alternance - Alternance Chargé de mission Marketi...', 'Data AZURE Engineer / Freelance', 'Assistant Chef de projets SI (Alternance) H/F', 'DATA SCIENTIST - F/H', 'Alternance Chargé(e) de Marketing Opérationnel-(H/F)', 'Operations Data Analyst H/F', 'Data Analyst (H/F)', 'Data Scientist F/H', 'Alternance 24 mois - Chargé de développement expérience coll...', 'Assistant de direction H/F en alternance', 'Assistant de gestion H/F en alternance - APPRENTISSAGE', 'Assistant(e) moyens généraux en alternance F/H', 'Stage en Alternance : Assistant de laboratoire H/F', 'Chargé(e) de communication et marketing digital - Alternance...', 'Contrat en alternance - Assistant Chef de projet Logistique...', 'Contrat en alternance - Alternance - Assistant contrôleur de...', 'Chargé(e) de communication - Alternance', 'Data Engineer (H/F)', 'Alternance - Assistant administratif et financier F/H', 'CHARGE(E) DE PROJET RASSEMBLEMENT EUROPEEN (H/F)', 'DATA ANALYST - DATA VISUALISATION', 'Chargé de mission stratégie marketing et analyse Data/CRM F/...', 'Data Analyst F/H', 'Alternance - Chargé de recrutement (H/F)', 'Alternance - chargé de gestion F/H', 'DATA ANALYST SENIOR H/F', 'Alternance - Chargé de Marketing et Communication Digitale (...', 'Data Scientist - F/H', 'Alternance - 1 an - Chargé de Middle Office - Paris 13ème F/...', 'Alternance - Assistant Responsable des Alliances et partenar...', 'Chargée de recrutement (alternance) H/F', 'Data Analyst - Data Steward F/H', 'Chargé(e) de projet conformité (H/F) – STAGE/ANNEE CESURE', \"Alternance - Chargé d'Affaires SAS H/F\", 'ASSISTANT JURISTE MARCHES PUBLICS - Alternance (H/F)', 'Assistant(e) Marketing H/F en alternance', 'Data Engineer AWS', 'CDI - BIG DATA ENGINEER- F/H', 'Data Engineer F/H', 'CHARGE(E) DE PROJET GOODIES', 'ASSISTANT CASH MANAGER EN ALTERNANCE (H/F)', 'Alternance - Assistant Product Owner', 'Data Scientist Senior f/m', 'Chargé de Reporting & Data Finance – @PwC Neuilly-sur-Seine...', 'Chargé de projet Metiers HSE F/H', 'Data Manager et Analyste Processus Gestion S&OP et GPEC F/H', 'consultant informatique Finance de Marché (ARPSON)/ Développ...', 'INGENIEUR / CHARGE DE PROJET SIT H/F 93', 'DATA SCIENTIST CONFIRME- F/H', 'Assistant ressources Humaines en alternance H/F', 'Chargé(e) AQ Opérationnelle Projets H/F', 'Stage Chargé(e) De Projet Procédures', 'Stage Assistant Analyste Marché', 'Chargé/Chargée de projet évènementiel & E-CRM', 'Chargé/Chargée de projet évènementiel & E-CRM F/H', 'Stage Janvier 2021 - EMEA Brand Content Analyst Assistant (H...', 'Chargé(e) de Communication Digitale en Alternance H/F', 'Data Scientist Expert H/F', 'Senior Big Data Engineer (H/F) -75 / Freelance', 'Responsable Data Analyst F/H', 'DATA ANALYST (F/H)', 'Stage - Assistant(e) Business Analyst Eyewear Mode - Janvier...', 'Chargé.e de projets en urbanisme durable F/H', 'Chargé de projet junior (EUR LIVE) - Santé', 'DATA ANALYST (F/H)', 'Alternant Chef de projet Marketing, communication et chargé(...', 'Chargé de projet vente F/H', 'Chargé.e du domaine social - projets informatiques MOE - Vil...', 'Stage - Assistant(e) Business Analyst Opérations Maille Mode...', 'PSYCHOLOGUE – CHARGE DE PROJET FORMATION A L’AUTISME H/F', 'Chasseur immobilier / Chargé(e) de projet immobilier confirm...', 'Chargé(e) de projet Construction durable F/H', 'Chargé de projets finance H/F', 'Chargé(e) de projets IT Système - 91 F/H', 'STAGE - Assistant support au pilotage des Ventes et analyse...', 'STAGE - SIÈGE SOCIAL - Chargé.e de Projets Immobilier - Dire...', 'Chasseur immobilier / Chargé(e) de projet immobilier confirm...', 'Chargé de support et projets SAP BFC - H/F', 'ANALYSTE DEVELOPPEUR BI (F/H)', 'CHARGE DE PROJETS ASSURANCE ANGLAIS ESPAGNOL H/F', 'STAGE - Assistant pilotage Ventes et analyse de données (H/F...', 'STAGE - Analyste marché soins patients & BI (H/F)', 'Assistant de gestion locative en alternance F/H']\n",
      "['ESAGE', 'ALLINSOURCING', 'Natixis', 'Human Job', 'CGI', 'Garantme', 'Publicis Media', 'PHENIX', 'Outmind', 'Air France-KLM', 'Orano', 'La Banque de France', 'SimpliField', 'EDF', 'Louis Vuitton', 'PROGRESS SANTE', 'ISCOD', 'Natixis', 'Showroomprive.com', 'ELYAS CONSEIL', 'Jobboards', 'Da Volterra', 'Total', 'Franfinance', 'Gefco', 'Système U', 'Paris Habitat', 'SOCIÉTÉ ALIMENTAIRE', 'EDF', 'EGROUPE', 'Finalcad', 'CGI', 'Umanis', 'LLFC', 'NATIXIS stage', 'ESTIAM', 'Veolia', 'Générationnel', 'Extia', 'NATIXIS', 'Pandascore', 'Orthlane', 'McKinsey & Company', 'SS2Qual', 'Natixis', 'ISCOD', 'DSC - Groupe Saint Gobain', 'Nigel Frank International LTD', 'Sanef', 'Ingeniance', 'Franfinance', 'Trusk', 'CITECH', 'Cadreo', 'NATIXIS', 'Le Sanctuaire Holding', 'AEPBN Association Emmaüs Port Marly Bougival Nante...', 'Certinergy & Solutions', 'Groupe GSRI - Geoscan Structure & Réhabilitation Ingénierie', 'ISCOD', 'BOLLORE LOGISTICS SERVICES', 'MEDIAPOST', 'Kuehne+Nagel', 'Amplifon', 'Linkednutri', 'SGDF', 'Harnham', 'LIGUE NATIONALE CONTRE LE CANCER', 'Cadreo', 'ACTIVUS Group', 'mozaik RH', 'Aldi', 'Carrefour', 'SHOWROOMPRIVE.COM', 'NATIXIS stage', 'Altares D&B', 'Aperlead', 'Cadreo', 'Nexity', 'SMAC', 'Grand Paris Aménagement', 'SOLINA', 'Getpro', 'Ingeniance', 'Amplifon', 'Facilitess', 'TALENTIS HORIZON', 'La Relève', 'Rakuten France', 'PwC', 'BUREAU VERITAS', 'Cadreo', 'Proman', 'Ingeniance', 'CRIT', 'Sanofi', 'FCM Travel Solutions', 'X-Trade Brokers (XTB) France', 'Amnesty International', 'AMNESTY INTERNATIONAL SECTION FRANCAISE', 'Ubisoft', 'DEKRA', 'Umanis', 'Club Freelance', 'Cadreo', 'RANDSTAD INHOUSE SERVICES GPA', 'Chanel', 'LESENR', 'Université Paris Est Créteil Val de Marne', 'Randstad Inhouse', '2SI - Evolukid', 'ALDI', \"Direction des Systèmes d'Information et du Numériq...\", 'Chanel', 'APAJH 94', 'ABIL RESSOURCES', 'LESENR', 'HAYS', 'ADISTA', 'Dassault Systèmes', 'Air Liquide', 'Abil Ressources', 'LEON Recrutement', 'Expectra.fr', 'MS GROUP Paris', 'DASSAULT SYSTEMES', 'DASSAULT SYSTEMES', 'G2F Conseil']\n",
      "['Paris (75)', 'Paris (75)', 'Paris (75)', 'Paris 15e (75)', 'Paris (75)', 'Paris (75)', 'Paris (75)', 'Paris 17e (75)', 'Paris (75)', 'Roissy-en-France (95)', 'Châtillon (92)', 'Paris (75)', 'Paris (75)', 'Paris (75)', 'Paris (75)', 'Paris 10e (75)', 'Bourg-la-Reine (92)', 'Paris (75)', 'Saint-Denis (93)', 'Paris 16e (75)', 'Gentilly (94)', 'Paris 11e (75)', 'Nanterre (92)', 'Nanterre (92)', 'Puteaux (92)', 'Rungis (94)', 'Paris (75)', 'Sucy-en-Brie (94)', 'Paris', 'Paris (75)', 'Paris (75)', 'La Défense (92)', 'Hauts-de-Seine', 'Bobigny (93)', 'Paris 13e (75)', 'Paris 20e (75)', 'Aubervilliers (93)', 'Paris 10e (75)', 'Paris (75)', 'Paris (75)', 'Paris (75)', 'La Courneuve (93)', 'Paris (75)', 'Asnières-sur-Seine (92)', 'Paris (75)', 'Charenton-le-Pont (94)', 'La Défense (92)', 'Paris (75)', 'Issy-les-Moulineaux (92)', 'La Défense (92)', 'Nanterre (92)', 'Saint-Ouen (93)', 'Charenton-le-Pont (94)', 'Paris 1er (75)', 'Paris (75)', 'Courbevoie (92)', 'Bougival (78)', 'Paris 14e (75)', 'Île-de-France', 'Paris (75)', 'Roissy-en-France (95)', 'Montrouge (92)', 'Paris (75)', 'Arcueil (94)', 'Cachan (94)', 'Arcueil (94)', 'Paris (75)', 'Paris 13e (75)', 'Meudon (92)', 'Paris 15e (75)', 'Paris 13e (75)', 'Villepinte (93)', 'Massy (91)', 'Saint-Denis (93)', 'Paris 1er (75)', 'Colombes (92)', 'Paris (75)', 'Paris 1er (75)', 'Paris 8e (75)', 'Sarcelles (95)', 'Paris (75)', 'Goussainville (95)', 'Paris (75)', 'La Défense (92)', 'Arcueil (94)', 'Charenton-le-Pont (94)', 'Hauts-de-Seine', 'Paris (75)', 'Paris 2e (75)', 'Neuilly-sur-Seine (92)', 'La Défense (92)', 'Courbevoie (92)', 'Paris (75)', 'Saint-Ouen (93)', 'La Défense (92)', 'Massy (91)', 'Vitry-sur-Seine (94)', 'Paris 8e (75)', 'Paris (75)', 'Paris (75)', 'Paris 19e (75)', 'Paris (75)', 'Le Plessis-Robinson (92)', 'Levallois-Perret (92)', 'Paris (75)', 'Meudon (92)', 'Courbevoie (92)', 'Paris (75)', 'Malakoff (92)', 'Créteil (94)', 'Courbevoie (92)', 'Nanterre (92)', 'Villepinte (93)', 'Paris 12e (75)', 'Paris (75)', 'Créteil (94)', 'Paris (75)', 'Malakoff (92)', 'Paris (75)', 'Massy (91)', 'Meudon (92)', 'Paris (75)', 'Paris 1er (75)', 'Paris (75)', 'Paris (75)', 'Levallois-Perret (92)', 'Vélizy-Villacoublay (78)', 'Vélizy-Villacoublay (78)', 'Île-de-France']\n",
      "**************************************************\n",
      "129\n",
      "128\n",
      "129\n"
     ]
    }
   ],
   "source": [
    "print(titles_convert)\n",
    "print(companies_convert)\n",
    "print(locations_convert)\n",
    "\n",
    "print('*****'*10)\n",
    "\n",
    "print(len(titles_convert))\n",
    "print(len(companies_convert))\n",
    "print(len(locations_convert))"
   ]
  },
  {
   "cell_type": "code",
   "execution_count": 236,
   "metadata": {
    "collapsed": true
   },
   "outputs": [
    {
     "ename": "ValueError",
     "evalue": "arrays must all be same length",
     "output_type": "error",
     "traceback": [
      "\u001b[0;31m---------------------------------------------------------------------------\u001b[0m",
      "\u001b[0;31mValueError\u001b[0m                                Traceback (most recent call last)",
      "\u001b[0;32m<ipython-input-236-e36a3a8f9b63>\u001b[0m in \u001b[0;36m<module>\u001b[0;34m\u001b[0m\n\u001b[1;32m      1\u001b[0m \u001b[0md\u001b[0m \u001b[0;34m=\u001b[0m \u001b[0;34m{\u001b[0m\u001b[0;34m'Entreprise'\u001b[0m\u001b[0;34m:\u001b[0m\u001b[0mcompanies_convert\u001b[0m\u001b[0;34m,\u001b[0m \u001b[0;34m'Offre'\u001b[0m\u001b[0;34m:\u001b[0m \u001b[0mtitles_convert\u001b[0m\u001b[0;34m,\u001b[0m \u001b[0;34m'Lieu'\u001b[0m\u001b[0;34m:\u001b[0m \u001b[0mlocations_convert\u001b[0m\u001b[0;34m}\u001b[0m\u001b[0;34m\u001b[0m\u001b[0;34m\u001b[0m\u001b[0m\n\u001b[0;32m----> 2\u001b[0;31m \u001b[0mdf\u001b[0m \u001b[0;34m=\u001b[0m \u001b[0mpd\u001b[0m\u001b[0;34m.\u001b[0m\u001b[0mDataFrame\u001b[0m\u001b[0;34m(\u001b[0m\u001b[0mdata\u001b[0m\u001b[0;34m=\u001b[0m\u001b[0md\u001b[0m\u001b[0;34m)\u001b[0m\u001b[0;34m\u001b[0m\u001b[0;34m\u001b[0m\u001b[0m\n\u001b[0m\u001b[1;32m      3\u001b[0m \u001b[0mdf\u001b[0m\u001b[0;34m.\u001b[0m\u001b[0mto_csv\u001b[0m\u001b[0;34m(\u001b[0m\u001b[0;34m'scrap_indeed.csv'\u001b[0m\u001b[0;34m,\u001b[0m\u001b[0mindex\u001b[0m\u001b[0;34m=\u001b[0m\u001b[0;32mFalse\u001b[0m\u001b[0;34m)\u001b[0m\u001b[0;34m\u001b[0m\u001b[0;34m\u001b[0m\u001b[0m\n",
      "\u001b[0;32m~/opt/anaconda3/lib/python3.7/site-packages/pandas/core/frame.py\u001b[0m in \u001b[0;36m__init__\u001b[0;34m(self, data, index, columns, dtype, copy)\u001b[0m\n\u001b[1;32m    433\u001b[0m             )\n\u001b[1;32m    434\u001b[0m         \u001b[0;32melif\u001b[0m \u001b[0misinstance\u001b[0m\u001b[0;34m(\u001b[0m\u001b[0mdata\u001b[0m\u001b[0;34m,\u001b[0m \u001b[0mdict\u001b[0m\u001b[0;34m)\u001b[0m\u001b[0;34m:\u001b[0m\u001b[0;34m\u001b[0m\u001b[0;34m\u001b[0m\u001b[0m\n\u001b[0;32m--> 435\u001b[0;31m             \u001b[0mmgr\u001b[0m \u001b[0;34m=\u001b[0m \u001b[0minit_dict\u001b[0m\u001b[0;34m(\u001b[0m\u001b[0mdata\u001b[0m\u001b[0;34m,\u001b[0m \u001b[0mindex\u001b[0m\u001b[0;34m,\u001b[0m \u001b[0mcolumns\u001b[0m\u001b[0;34m,\u001b[0m \u001b[0mdtype\u001b[0m\u001b[0;34m=\u001b[0m\u001b[0mdtype\u001b[0m\u001b[0;34m)\u001b[0m\u001b[0;34m\u001b[0m\u001b[0;34m\u001b[0m\u001b[0m\n\u001b[0m\u001b[1;32m    436\u001b[0m         \u001b[0;32melif\u001b[0m \u001b[0misinstance\u001b[0m\u001b[0;34m(\u001b[0m\u001b[0mdata\u001b[0m\u001b[0;34m,\u001b[0m \u001b[0mma\u001b[0m\u001b[0;34m.\u001b[0m\u001b[0mMaskedArray\u001b[0m\u001b[0;34m)\u001b[0m\u001b[0;34m:\u001b[0m\u001b[0;34m\u001b[0m\u001b[0;34m\u001b[0m\u001b[0m\n\u001b[1;32m    437\u001b[0m             \u001b[0;32mimport\u001b[0m \u001b[0mnumpy\u001b[0m\u001b[0;34m.\u001b[0m\u001b[0mma\u001b[0m\u001b[0;34m.\u001b[0m\u001b[0mmrecords\u001b[0m \u001b[0;32mas\u001b[0m \u001b[0mmrecords\u001b[0m\u001b[0;34m\u001b[0m\u001b[0;34m\u001b[0m\u001b[0m\n",
      "\u001b[0;32m~/opt/anaconda3/lib/python3.7/site-packages/pandas/core/internals/construction.py\u001b[0m in \u001b[0;36minit_dict\u001b[0;34m(data, index, columns, dtype)\u001b[0m\n\u001b[1;32m    252\u001b[0m             \u001b[0marr\u001b[0m \u001b[0;32mif\u001b[0m \u001b[0;32mnot\u001b[0m \u001b[0mis_datetime64tz_dtype\u001b[0m\u001b[0;34m(\u001b[0m\u001b[0marr\u001b[0m\u001b[0;34m)\u001b[0m \u001b[0;32melse\u001b[0m \u001b[0marr\u001b[0m\u001b[0;34m.\u001b[0m\u001b[0mcopy\u001b[0m\u001b[0;34m(\u001b[0m\u001b[0;34m)\u001b[0m \u001b[0;32mfor\u001b[0m \u001b[0marr\u001b[0m \u001b[0;32min\u001b[0m \u001b[0marrays\u001b[0m\u001b[0;34m\u001b[0m\u001b[0;34m\u001b[0m\u001b[0m\n\u001b[1;32m    253\u001b[0m         ]\n\u001b[0;32m--> 254\u001b[0;31m     \u001b[0;32mreturn\u001b[0m \u001b[0marrays_to_mgr\u001b[0m\u001b[0;34m(\u001b[0m\u001b[0marrays\u001b[0m\u001b[0;34m,\u001b[0m \u001b[0mdata_names\u001b[0m\u001b[0;34m,\u001b[0m \u001b[0mindex\u001b[0m\u001b[0;34m,\u001b[0m \u001b[0mcolumns\u001b[0m\u001b[0;34m,\u001b[0m \u001b[0mdtype\u001b[0m\u001b[0;34m=\u001b[0m\u001b[0mdtype\u001b[0m\u001b[0;34m)\u001b[0m\u001b[0;34m\u001b[0m\u001b[0;34m\u001b[0m\u001b[0m\n\u001b[0m\u001b[1;32m    255\u001b[0m \u001b[0;34m\u001b[0m\u001b[0m\n\u001b[1;32m    256\u001b[0m \u001b[0;34m\u001b[0m\u001b[0m\n",
      "\u001b[0;32m~/opt/anaconda3/lib/python3.7/site-packages/pandas/core/internals/construction.py\u001b[0m in \u001b[0;36marrays_to_mgr\u001b[0;34m(arrays, arr_names, index, columns, dtype)\u001b[0m\n\u001b[1;32m     62\u001b[0m     \u001b[0;31m# figure out the index, if necessary\u001b[0m\u001b[0;34m\u001b[0m\u001b[0;34m\u001b[0m\u001b[0;34m\u001b[0m\u001b[0m\n\u001b[1;32m     63\u001b[0m     \u001b[0;32mif\u001b[0m \u001b[0mindex\u001b[0m \u001b[0;32mis\u001b[0m \u001b[0;32mNone\u001b[0m\u001b[0;34m:\u001b[0m\u001b[0;34m\u001b[0m\u001b[0;34m\u001b[0m\u001b[0m\n\u001b[0;32m---> 64\u001b[0;31m         \u001b[0mindex\u001b[0m \u001b[0;34m=\u001b[0m \u001b[0mextract_index\u001b[0m\u001b[0;34m(\u001b[0m\u001b[0marrays\u001b[0m\u001b[0;34m)\u001b[0m\u001b[0;34m\u001b[0m\u001b[0;34m\u001b[0m\u001b[0m\n\u001b[0m\u001b[1;32m     65\u001b[0m     \u001b[0;32melse\u001b[0m\u001b[0;34m:\u001b[0m\u001b[0;34m\u001b[0m\u001b[0;34m\u001b[0m\u001b[0m\n\u001b[1;32m     66\u001b[0m         \u001b[0mindex\u001b[0m \u001b[0;34m=\u001b[0m \u001b[0mensure_index\u001b[0m\u001b[0;34m(\u001b[0m\u001b[0mindex\u001b[0m\u001b[0;34m)\u001b[0m\u001b[0;34m\u001b[0m\u001b[0;34m\u001b[0m\u001b[0m\n",
      "\u001b[0;32m~/opt/anaconda3/lib/python3.7/site-packages/pandas/core/internals/construction.py\u001b[0m in \u001b[0;36mextract_index\u001b[0;34m(data)\u001b[0m\n\u001b[1;32m    363\u001b[0m             \u001b[0mlengths\u001b[0m \u001b[0;34m=\u001b[0m \u001b[0mlist\u001b[0m\u001b[0;34m(\u001b[0m\u001b[0mset\u001b[0m\u001b[0;34m(\u001b[0m\u001b[0mraw_lengths\u001b[0m\u001b[0;34m)\u001b[0m\u001b[0;34m)\u001b[0m\u001b[0;34m\u001b[0m\u001b[0;34m\u001b[0m\u001b[0m\n\u001b[1;32m    364\u001b[0m             \u001b[0;32mif\u001b[0m \u001b[0mlen\u001b[0m\u001b[0;34m(\u001b[0m\u001b[0mlengths\u001b[0m\u001b[0;34m)\u001b[0m \u001b[0;34m>\u001b[0m \u001b[0;36m1\u001b[0m\u001b[0;34m:\u001b[0m\u001b[0;34m\u001b[0m\u001b[0;34m\u001b[0m\u001b[0m\n\u001b[0;32m--> 365\u001b[0;31m                 \u001b[0;32mraise\u001b[0m \u001b[0mValueError\u001b[0m\u001b[0;34m(\u001b[0m\u001b[0;34m\"arrays must all be same length\"\u001b[0m\u001b[0;34m)\u001b[0m\u001b[0;34m\u001b[0m\u001b[0;34m\u001b[0m\u001b[0m\n\u001b[0m\u001b[1;32m    366\u001b[0m \u001b[0;34m\u001b[0m\u001b[0m\n\u001b[1;32m    367\u001b[0m             \u001b[0;32mif\u001b[0m \u001b[0mhave_dicts\u001b[0m\u001b[0;34m:\u001b[0m\u001b[0;34m\u001b[0m\u001b[0;34m\u001b[0m\u001b[0m\n",
      "\u001b[0;31mValueError\u001b[0m: arrays must all be same length"
     ]
    }
   ],
   "source": [
    "d = {'Entreprise':companies_convert, 'Offre': titles_convert, 'Lieu': locations_convert}\n",
    "df = pd.DataFrame(data=d)\n",
    "df.to_csv('scrap_indeed.csv',index=False)"
   ]
  },
  {
   "cell_type": "markdown",
   "metadata": {},
   "source": [
    "# Selenium :  en cliquant sur chaque anonce"
   ]
  },
  {
   "cell_type": "code",
   "execution_count": 63,
   "metadata": {
    "collapsed": true
   },
   "outputs": [
    {
     "name": "stdout",
     "output_type": "stream",
     "text": [
      "page15\n",
      "page11\n",
      "page10\n",
      "page10\n",
      "page14\n",
      "page11\n",
      "page10\n",
      "page10\n",
      "page10\n",
      "page10\n",
      "page10\n"
     ]
    }
   ],
   "source": [
    "# DEMARRAGE DE SELENIUM\n",
    "browser = webdriver.Chrome()\n",
    "browser.maximize_window()\n",
    "browser.get('https://www.indeed.fr/')\n",
    "\n",
    "# ENTREZ LES MOTS CLEFS A RECHERCHER (ex : Alternance data)\n",
    "input_bar = browser.find_element_by_xpath('//*[@id=\"text-input-what\"]').send_keys('Alternance data')\n",
    "\n",
    "# Time sleep\n",
    "time.sleep(random.randrange(0,2))\n",
    "\n",
    "# ENTREZ LA LOCATION (ex: Paris)\n",
    "# A revoir\n",
    "\n",
    "# Time sleep\n",
    "time.sleep(random.randrange(0,2))\n",
    "\n",
    "# INPUT LA RECHERCHE\n",
    "input_recherche = browser.find_element_by_xpath('/html/body/div[1]/div[4]/div[1]/div/div/div/form/div[3]/button').click()\n",
    "\n",
    "# Filter a 24 dernieres heures (1/2)\n",
    "date = browser.find_element_by_id('filter-dateposted').click()\n",
    "\n",
    "# Time sleep\n",
    "time.sleep(random.randrange(0,1))\n",
    "\n",
    "# Filter a 24 dernieres heures (2/2)\n",
    "#one_day = browser.find_element_by_partial_link_text('Dernières').click()\n",
    "three_days = browser.find_element_by_partial_link_text('3 derniers jours').click()\n",
    "#seven_days = browser.find_element_by_partial_link_text('7 derniers jours').click()\n",
    "#fourteen_days = browser.find_element_by_partial_link_text('14 derniers jours').click()\n",
    "\n",
    "# Time sleep\n",
    "time.sleep(2)\n",
    "\n",
    "# Si fenêtre du mail apparait, pour fermer cette fenêtre\n",
    "try:\n",
    "    browser.find_element_by_css_selector('[aria-label=\"Close\"]').click()\n",
    "except:\n",
    "    pass\n",
    "\n",
    "# Time sleep\n",
    "time.sleep(random.randrange(0,1))\n",
    "\n",
    "# VARIABLES\n",
    "titles = []\n",
    "companies = []\n",
    "locations = []\n",
    "urls = []\n",
    "i = 0\n",
    "page = True\n",
    "browser.execute_script(\"window.scrollTo(0, 200)\")\n",
    "\n",
    "while page:\n",
    "    try:\n",
    "        liste_test = browser.find_elements_by_css_selector(\"[data-tn-element='jobTitle']\")\n",
    "        for i in range(0,len(liste_test)):\n",
    "            # Time sleep\n",
    "            time.sleep(1)\n",
    "            # job annonce click\n",
    "            job = liste_test[i].click()\n",
    "            # Time sleep\n",
    "            time.sleep(random.randrange(1,2))\n",
    "\n",
    "            # TITLE\n",
    "            try:\n",
    "                title = browser.find_element_by_id('vjs-jobtitle').text\n",
    "            except:\n",
    "                title = 'N/A'\n",
    "\n",
    "            #ENTREPRISE\n",
    "            try:\n",
    "                company = browser.find_element_by_css_selector('[rel=\"nofollow noopener\"]').text\n",
    "            except Exception:\n",
    "                pass\n",
    "            try:\n",
    "                company = browser.find_element_by_id('vjs-cn').text\n",
    "            except:\n",
    "                company = 'N/A'\n",
    "\n",
    "            # LOCATION\n",
    "            try:\n",
    "                location = browser.find_element_by_id(\"vjs-loc\").text\n",
    "            except:\n",
    "                location = 'N/A'\n",
    "\n",
    "            # URL\n",
    "            try: \n",
    "                url = browser.current_url\n",
    "            except:\n",
    "                url = 'N/A'\n",
    "\n",
    "            # Time sleep\n",
    "            time.sleep(random.randrange(0,1))\n",
    "\n",
    "            # Remplir nos listes\n",
    "            titles.append(title)\n",
    "            companies.append(company)\n",
    "            locations.append(location)\n",
    "            urls.append(url)\n",
    "\n",
    "            # Scroll \n",
    "            #browser.execute_script(\"window.scrollTo(0, 800)\")\n",
    "            browser.execute_script(\"window.scrollTo(0, document.body.scrollHeight);\")\n",
    "\n",
    "            # Incrementation\n",
    "            i += 1\n",
    "\n",
    "            # Time sleep\n",
    "            # time.sleep(1)\n",
    "\n",
    "        browser.execute_script(\"window.scrollTo(0, 6000)\")\n",
    "        \n",
    "        try:\n",
    "            arrow = browser.find_element_by_css_selector('[aria-label=\"Suivant\"]').click()\n",
    "            #print(f'page{i}')\n",
    "        except:\n",
    "            page = False\n",
    "        \n",
    "    except:\n",
    "        #page = False\n",
    "        print(\"c'est fini\")\n",
    "        break\n",
    "\n",
    "# FERMETURE DU BROWSER\n",
    "browser.close()\n"
   ]
  },
  {
   "cell_type": "code",
   "execution_count": 64,
   "metadata": {},
   "outputs": [
    {
     "name": "stdout",
     "output_type": "stream",
     "text": [
      "['Data Engineer (F/H) - France', 'Assistant(e) de Manager – BTS SAM en alternance - Rentrée Octobre 2020', 'Data scientist', 'Data analyste informatique - CDI (H/F)', 'Data Analyst (Alternance)', 'Alternance - Assistant Directeur Data Management (H/F)', 'DATA SCIENTIST H/F', 'Développeur web full stack H/F pour ERP en alternance', \"NLP DATA SCIENTIST (STAGE FIN D'ÉTUDES / ALTERNANCE)\", 'Alternance - Assistant(E) Achats Et Développement Props & Pack (F/H)', 'Data Scientist - Paris', 'Data Scientist (Internship)', 'Data analyst (H/F)', 'Alternance Développeur Web/IHM F/H', 'Chargé de projet digital Marketing Epargne', 'Data Analyst (internship)', 'Data Scientist F/H', 'Alternance – AMO Data Scientist H/F', 'DATA OFFICER/DATA ANALYSTE - MNC - H/F', 'Data analyst - odds', 'N/A', 'Data Scientist H/F', 'Data Engineer - McKinsey Analytics', 'Data Engineer (H/F)', 'Data scientist + 3ans', 'consultant informatique Finance de Marché (ARPSON)/ Développeur Power BI (reporting) (h/f)', 'Operations Data Analyst H/F', 'DATA ANALYST - DATA VISUALISATION', 'Data Scientist - F/H', 'Data Engineer F/H', 'Data Analyst (H/F)', 'Data Analyst F/H', 'DATA ANALYST SENIOR H/F', \"Alternance- Chargé d'études Marketing H/F\", 'Data Scientist F/H', 'Stage - 6 mois - Data Scientist (H/F) - Paris 13ème', 'Assistant Chef de projets SI (Alternance) H/F', 'Market Data Analyst (H/F) CDD', 'Stage - Assistant(e) Business Analyst Eyewear Mode - Janvier 2021 H/F', 'DATA ANALYST (F/H)', 'Alternance - Assistant(e) de Manager', 'DATA ANALYST (F/H)', 'Data Manager et Analyste Processus Gestion S&OP et GPEC F/H', 'Stage - Assistant(e) Business Analyst Opérations Maille Mode - Janvier 2021 H/F', 'Data Engineer AWS', 'Chargé de mission stratégie marketing et analyse Data/CRM F/H', 'INGENIEUR / CHARGE DE PROJET SIT H/F 93', 'Assistant Marketing Web et Réseaux Sociaux H/F - Alternance', 'Alternance Assistant(e) Project Management Office SAP H/F', 'Alternance - 1 à 2 ans - Assistant Analyste ESG - Paris 13ème F/H', 'Chargé(e) de projet conformité (H/F) – STAGE/ANNEE CESURE', 'ASSISTANT(E) ADMINISTRATION DES VENTES EN ALTERNANCE (H/F)', 'Stage / Alternance Assistant(e) Qualité et opération H/F', 'Stage - Chargé de projet « Asset Servicing Management » H/F', 'N/A', 'Stage Chargé(e) De Projet Procédures', 'Chargé/Chargée de projet évènementiel & E-CRM F/H', 'Chargé/Chargée de projet évènementiel & E-CRM', 'Stage en Alternance : Assistant de laboratoire H/F', 'Chargé(e) de communication et marketing digital - Alternance - Paris', 'Chargé relation client (F-H) - Paris - Alternance F/H', 'Stage Assistant Analyste Marché', 'Assistant Qualité Alternance H/F', 'Alternance Chargé(e) de Marketing Opérationnel-(H/F)', 'Alternance 24 mois - Chargé de développement expérience collaborateur H/F - Paris 13ème', 'Chargé(e) de communication - Alternance', 'Stage / alternance / apprenti assistant marketing opérationnel', 'Chargé de projets H/F', 'CHARGÉ(E) DE COMMUNICATION & MARKETING - ALTERNANCE', 'Alternance - chargé de gestion F/H', 'Assistant administratif et commercial H/F - Alternance - Charenton le pont', 'Alternance Assistant(e) de gestion entreprise-(H/F)', 'Chargé(e) de Projets Marketing et Communication Digitale', 'Alternance - Assistant Responsable des Alliances et partenariats H/F', 'Chargé.e de projets en urbanisme durable F/H', 'Assistant(e) moyens généraux en alternance F/H', 'CHARGE(E) DE PROJET GOODIES', 'Alternance - Assistant administratif et financier F/H', 'Assistant de direction H/F en alternance', 'Chargé.e du domaine social - projets informatiques MOE - Ville de Paris F/H', 'ASSISTANT CASH MANAGER EN ALTERNANCE (H/F)', 'Chargé de Reporting & Data Finance – @PwC Neuilly-sur-Seine – CDI – H/F', 'Chargé de projet junior (EUR LIVE) - Santé', 'Responsable Data Analyst F/H', 'Chargé de projet vente F/H', 'Data Analyst - Data Steward F/H', 'Chargé de projets finance H/F', 'Data Scientist Expert H/F', \"Alternance - Chargé d'Affaires SAS H/F\", 'Alternant Chef de projet Marketing, communication et chargé(e) de clientèle', 'Assistant(e) Marketing H/F en alternance', 'CHARGE DE PROJETS ASSURANCE ANGLAIS ESPAGNOL H/F', 'DATA SCIENTIST - F/H', 'Alternance - Chargé de Marketing et Communication Digitale (H/F)', 'Alternance - Assistant Product Owner', 'Alternance - Chargé(e) de Communication / Marque Employeur - IDF H/F', 'Alternance - 1 an - Chargé de Middle Office - Paris 13ème F/H', 'STAGE - SIÈGE SOCIAL - Chargé.e de Projets Immobilier - Direction Real Estate / Immobilier (H/F)', 'Chargé(e) de projet Construction durable F/H', 'Data Scientist Senior f/m', 'Chargé de projet Metiers HSE F/H', 'Chargé(e) de Communication Digitale en Alternance H/F', 'ANALYSTE DEVELOPPEUR BI (F/H)', 'Chargé de paie et administration du personnel (Alternance) - H/F', 'Chargé de recrutement - ALTERNANCE (H/F)', 'Assistant administratif RH – Alternance (H/F)', 'Assistante de Direction et Ressources Humaines H/F - Alternance', 'ASSISTANT JURISTE MARCHES PUBLICS - Alternance (H/F)', 'Stage Janvier 2021 - EMEA Brand Content Analyst Assistant (H/F )', 'DATA SCIENTIST CONFIRME- F/H', 'Chargé(e) de projets IT Système - 91 F/H', 'CDI - BIG DATA ENGINEER- F/H', 'Assistant de gestion H/F en alternance - APPRENTISSAGE', 'N/A', 'Alternance - Chargé de recrutement (H/F)', 'Apache Beam Big Data Engineer (H/F) -75 / Freelance', 'STAGE - Assistant support au pilotage des Ventes et analyse de données (H/F)', 'Assistant ressources Humaines en alternance H/F', 'N/A', 'Chasseur immobilier / Chargé(e) de projet immobilier confirmé H/F', 'Chasseur immobilier / Chargé(e) de projet immobilier confirmé F/H', 'Chargé de support et projets SAP BFC - H/F', 'STAGE - Assistant pilotage Ventes et analyse de données (H/F)', 'Assistant de gestion locative en alternance F/H', 'Data Engineer h/f']\n",
      "########################################\n",
      "['Finalcad', 'ESAGE', 'EGROUPE', 'Human Job', 'Supermood', 'Publicis Media', 'Garantme', 'VASPP', 'Outmind', 'Louis Vuitton', 'Dataiku', 'Supermood', 'PHENIX', 'Orano', 'ALLINSOURCING', 'SimpliField', 'Jobboards', 'Air France-KLM', 'La Banque de France', 'Pandascore', 'N/A', 'EDF', 'McKinsey & Company', 'Amplifon', 'Sept Lieues', '', 'Trusk', 'Harnham', 'SHOWROOMPRIVE.COM', 'Amplifon', 'CITECH', 'Cadreo', 'Aldi', 'Système U', 'Cadreo', 'Natixis', 'Sanef', 'NATIXIS', 'Chanel', 'RANDSTAD INHOUSE SERVICES GPA', 'Veolia', 'Randstad Inhouse', 'Cadreo', 'Chanel', 'Getpro', 'LIGUE NATIONALE CONTRE LE CANCER', 'Proman', 'ISCOD', 'Total', 'NATIXIS stage', 'Nexity', 'Acensi', 'SOCIÉTÉ ALIMENTAIRE', 'Amundi Asset Management', 'N/A', 'FCM Travel Solutions', 'AMNESTY INTERNATIONAL SECTION FRANCAISE', 'Amnesty International', 'Groupe GSRI - Geoscan Structure & Réhabilitation Ingénierie', 'ISCOD', 'Générationnel', 'X-Trade Brokers (XTB) France', 'LLFC', 'Franfinance', 'NATIXIS', 'Kuehne+Nagel', 'GACD', 'BBJ', 'Orthlane', 'mozaik RH', 'ISCOD', 'Franfinance', 'PROGRESS SANTE', 'Altares D&B', 'LESENR', 'Certinergy & Solutions', 'Facilitess', 'Linkednutri', 'Le Sanctuaire Holding', \"Direction des Systèmes d'Information et du Numérique - Ville de Paris\", 'TALENTIS HORIZON', 'PwC', 'Université Paris Est Créteil Val de Marne', 'Cadreo', 'ALDI', 'Cadreo', 'HAYS', 'Umanis', 'SMAC', '2SI - Evolukid', 'SOLINA', 'MS GROUP Paris', 'Ingeniance', 'Carrefour', 'La Relève', 'Extia', 'NATIXIS stage', 'Air Liquide', 'LESENR', 'Rakuten France', 'BUREAU VERITAS', 'DEKRA', 'Expectra.fr', 'Showroomprive.com', 'Paris Habitat', 'Gefco', 'ELYAS CONSEIL', 'Grand Paris Aménagement', 'Ubisoft', 'Ingeniance', 'ADISTA', 'Ingeniance', 'AEPBN Association Emmaüs Port Marly Bougival Nanterre', 'N/A', 'ACTIVUS Group', 'Club Freelance', 'Dassault Systèmes', 'CRIT', 'N/A', 'ABIL RESSOURCES', 'Abil Ressources', 'LEON Recrutement', 'DASSAULT SYSTEMES', 'G2F Conseil', 'Selescope']\n",
      "########################################\n",
      "['- Paris (75)', '- Paris (75)', '- Paris (75)', '- Paris 15e (75)', '- Paris (75)', '- Paris (75)', '- Paris (75)', '- Paris 9e (75)', '- Paris (75)', '- Paris (75)', '- Paris (75)', '- Paris (75)', '- Paris 17e (75)', '- Châtillon (92)', '- Paris (75)', '- Paris (75)', '- Gentilly (94)', '- Roissy-en-France (95)', '- Paris (75)', '- Paris (75)', 'N/A', '- Paris (75)', '- Paris (75)', '- Arcueil (94)', '- Paris (75)', '- Paris (75)', '- Saint-Ouen (93)', '- Paris (75)', '- Saint-Denis (93)', '- Arcueil (94)', '- Charenton-le-Pont (94)', '- Meudon (92)', '- Villepinte (93)', '- Rungis (94)', '- Paris 1er (75)', '- Paris (75)', '- Issy-les-Moulineaux (92)', '- Paris (75)', '- Paris (75)', '- Courbevoie (92)', '- Aubervilliers (93)', '- Courbevoie (92)', '- Courbevoie (92)', '- Paris (75)', '- Paris (75)', '- Paris 13e (75)', '- Saint-Ouen (93)', '- Bourg-la-Reine (92)', '- Nanterre (92)', '- Paris 13e (75)', '- Paris 8e (75)', '- Paris (75)', '- Sucy-en-Brie (94)', '- Paris (75)', 'N/A', '- Paris 8e (75)', '- Paris 19e (75)', '- Paris (75)', '- Île-de-France', '- Paris (75)', '- Paris 10e (75)', '- Paris (75)', '- Bobigny (93)', '- Nanterre (92)', '- Paris (75)', '- Paris (75)', '- Paris 9e (75)', '- Rueil-Malmaison (92)', '- La Courneuve (93)', '- Paris 13e (75)', '- Charenton-le-Pont (94)', '- Nanterre (92)', '- Paris 10e (75)', '- Colombes (92)', '- Malakoff (92)', '- Paris 14e (75)', '- Charenton-le-Pont (94)', '- Cachan (94)', '- Courbevoie (92)', '- Paris 12e (75)', '- Hauts-de-Seine', '- Neuilly-sur-Seine (92)', '- Créteil (94)', '- Meudon (92)', '- Villepinte (93)', '- Paris 1er (75)', '- Paris (75)', '- Levallois-Perret (92)', '- Sarcelles (95)', '- Nanterre (92)', '- Goussainville (95)', '- Levallois-Perret (92)', '- La Défense (92)', '- Massy (91)', '- Paris (75)', '- Paris (75)', '- Paris 1er (75)', '- Paris (75)', '- Malakoff (92)', '- Paris 2e (75)', '- La Défense (92)', '- Le Plessis-Robinson (92)', '- Paris (75)', '- Saint-Denis (93)', '- Paris (75)', '- Puteaux (92)', '- Paris 16e (75)', '- Paris (75)', '- Paris (75)', '- La Défense (92)', '- Massy (91)', '- La Défense (92)', '- Bougival (78)', 'N/A', '- Paris 15e (75)', '- Paris (75)', '- Meudon (92)', '- Massy (91)', 'N/A', '- Paris (75)', '- Paris 1er (75)', '- Paris (75)', '- Vélizy-Villacoublay (78)', '- Île-de-France', '- Île-de-France']\n",
      "########################################\n",
      "['https://www.indeed.fr/jobs?q=Alternance%20data&l=Paris%20(75)&fromage=3&advn=190761308337259&vjk=e7a352628c185e5a', 'https://www.indeed.fr/jobs?q=Alternance%20data&l=Paris%20(75)&fromage=3&advn=1541510057709121&vjk=b03d6b52f651395b', 'https://www.indeed.fr/jobs?q=Alternance%20data&l=Paris%20(75)&fromage=3&advn=2715648309700515&vjk=c6a15b071035c70e', 'https://www.indeed.fr/jobs?q=Alternance%20data&l=Paris%20(75)&fromage=3&advn=2715648309700515&vjk=88111c205af77030', 'https://www.indeed.fr/jobs?q=Alternance%20data&l=Paris%20(75)&fromage=3&vjk=65983b233da0f56d', 'https://www.indeed.fr/jobs?q=Alternance%20data&l=Paris%20(75)&fromage=3&vjk=cb08e945525e4134', 'https://www.indeed.fr/jobs?q=Alternance%20data&l=Paris%20(75)&fromage=3&vjk=4a0f3fd429827ef7', 'https://www.indeed.fr/jobs?q=Alternance%20data&l=Paris%20(75)&fromage=3&vjk=0e15ffaf1e8eabd4', 'https://www.indeed.fr/jobs?q=Alternance%20data&l=Paris%20(75)&fromage=3&vjk=4afa25de17215b3b', 'https://www.indeed.fr/jobs?q=Alternance%20data&l=Paris%20(75)&fromage=3&vjk=11221a73cdf3c18e', 'https://www.indeed.fr/jobs?q=Alternance%20data&l=Paris%20(75)&fromage=3&vjk=2319caacffe878a6', 'https://www.indeed.fr/jobs?q=Alternance%20data&l=Paris%20(75)&fromage=3&vjk=2e73252ecb6221ac', 'https://www.indeed.fr/jobs?q=Alternance%20data&l=Paris%20(75)&fromage=3&vjk=1b1ff56086ef1f30', 'https://www.indeed.fr/jobs?q=Alternance%20data&l=Paris%20(75)&fromage=3&vjk=211110b213354a50', 'https://www.indeed.fr/jobs?q=Alternance%20data&l=Paris%20(75)&fromage=3&vjk=d3af8188aedcd1bd&advn=3020537787203684', 'https://www.indeed.fr/jobs?q=Alternance%20data&l=Paris%20(75)&fromage=3&start=10&vjk=06dd782251355b73', 'https://www.indeed.fr/jobs?q=Alternance%20data&l=Paris%20(75)&fromage=3&start=10&vjk=1823973915b43b12', 'https://www.indeed.fr/jobs?q=Alternance%20data&l=Paris%20(75)&fromage=3&start=10&vjk=cf84805b32cbd065', 'https://www.indeed.fr/jobs?q=Alternance%20data&l=Paris%20(75)&fromage=3&start=10&vjk=a5b0799c76f9686c', 'https://www.indeed.fr/jobs?q=Alternance%20data&l=Paris%20(75)&fromage=3&start=10&vjk=dba3acb016f3cb68', 'https://www.indeed.fr/jobs?q=Alternance%20data&l=Paris%20(75)&fromage=3&start=10&vjk=50ac05ac4a0ef892', 'https://www.indeed.fr/jobs?q=Alternance%20data&l=Paris%20(75)&fromage=3&start=10&vjk=17fe2a565cab665b', 'https://www.indeed.fr/jobs?q=Alternance%20data&l=Paris%20(75)&fromage=3&start=10&vjk=5170baeee9e9137b', 'https://www.indeed.fr/jobs?q=Alternance%20data&l=Paris%20(75)&fromage=3&start=10&vjk=d2fe7e2971dca218', 'https://www.indeed.fr/jobs?q=Alternance%20data&l=Paris%20(75)&fromage=3&start=10&vjk=91018afba1f113b1', 'https://www.indeed.fr/jobs?q=Alternance%20data&l=Paris%20(75)&fromage=3&start=10&vjk=3fc7830dc21e63d8&advn=2715648309700515', 'https://www.indeed.fr/jobs?q=Alternance%20data&l=Paris%20(75)&fromage=3&start=20&vjk=c71d8f7f1b15c04d', 'https://www.indeed.fr/jobs?q=Alternance%20data&l=Paris%20(75)&fromage=3&start=20&vjk=bc2e2527b5242091', 'https://www.indeed.fr/jobs?q=Alternance%20data&l=Paris%20(75)&fromage=3&start=20&vjk=a87986c9c6b45dcd', 'https://www.indeed.fr/jobs?q=Alternance%20data&l=Paris%20(75)&fromage=3&start=20&vjk=ecab53faa244c0a0', 'https://www.indeed.fr/jobs?q=Alternance%20data&l=Paris%20(75)&fromage=3&start=20&vjk=a00174ddfef3c93b', 'https://www.indeed.fr/jobs?q=Alternance%20data&l=Paris%20(75)&fromage=3&start=20&vjk=3254fb1fdb02d486', 'https://www.indeed.fr/jobs?q=Alternance%20data&l=Paris%20(75)&fromage=3&start=20&vjk=edd7e4725d4efd09', 'https://www.indeed.fr/jobs?q=Alternance%20data&l=Paris%20(75)&fromage=3&start=20&vjk=420eb9ab71347e0d', 'https://www.indeed.fr/jobs?q=Alternance%20data&l=Paris%20(75)&fromage=3&start=20&vjk=43204040d7189e87', 'https://www.indeed.fr/jobs?q=Alternance%20data&l=Paris%20(75)&fromage=3&start=20&vjk=c9908fe429aad396', 'https://www.indeed.fr/jobs?q=Alternance%20data&l=Paris%20(75)&fromage=3&start=30&vjk=0ab067b51b1026b6', 'https://www.indeed.fr/jobs?q=Alternance%20data&l=Paris%20(75)&fromage=3&start=30&vjk=a1240ed60403ad5c', 'https://www.indeed.fr/jobs?q=Alternance%20data&l=Paris%20(75)&fromage=3&start=30&vjk=aeaa8c3bc667e64f', 'https://www.indeed.fr/jobs?q=Alternance%20data&l=Paris%20(75)&fromage=3&start=30&vjk=4962985708a848d0', 'https://www.indeed.fr/jobs?q=Alternance%20data&l=Paris%20(75)&fromage=3&start=30&vjk=da256b39ce94a62c', 'https://www.indeed.fr/jobs?q=Alternance%20data&l=Paris%20(75)&fromage=3&start=30&vjk=57e30faeb698fb70', 'https://www.indeed.fr/jobs?q=Alternance%20data&l=Paris%20(75)&fromage=3&start=30&vjk=5f8770d20869d642', 'https://www.indeed.fr/jobs?q=Alternance%20data&l=Paris%20(75)&fromage=3&start=30&vjk=f4500774e4657b04', 'https://www.indeed.fr/jobs?q=Alternance%20data&l=Paris%20(75)&fromage=3&start=30&vjk=5a154128c1e44f68', 'https://www.indeed.fr/jobs?q=Alternance%20data&l=Paris%20(75)&fromage=3&start=30&vjk=9f6db774ea12b820', 'https://www.indeed.fr/jobs?q=Alternance%20data&l=Paris%20(75)&fromage=3&start=40&advn=1352446391118518&vjk=00e1f84b36586ad1', 'https://www.indeed.fr/jobs?q=Alternance%20data&l=Paris%20(75)&fromage=3&start=40&advn=4629412499192798&vjk=dd9b16902c548a7e', 'https://www.indeed.fr/jobs?q=Alternance%20data&l=Paris%20(75)&fromage=3&start=40&vjk=f5b2a019af5b8143', 'https://www.indeed.fr/jobs?q=Alternance%20data&l=Paris%20(75)&fromage=3&start=40&vjk=9c5feffe6c116ba2', 'https://www.indeed.fr/jobs?q=Alternance%20data&l=Paris%20(75)&fromage=3&start=40&vjk=b10a0668fccc7ed4', 'https://www.indeed.fr/jobs?q=Alternance%20data&l=Paris%20(75)&fromage=3&start=40&vjk=cd8774429e04a0d1', 'https://www.indeed.fr/jobs?q=Alternance%20data&l=Paris%20(75)&fromage=3&start=40&vjk=d70822343f688048', 'https://www.indeed.fr/jobs?q=Alternance%20data&l=Paris%20(75)&fromage=3&start=40&vjk=0cecb3c0775dad06', 'https://www.indeed.fr/jobs?q=Alternance%20data&l=Paris%20(75)&fromage=3&start=40&vjk=4ebd1137771d3c0f', 'https://www.indeed.fr/jobs?q=Alternance%20data&l=Paris%20(75)&fromage=3&start=40&vjk=ae5af9e9e9d18375', 'https://www.indeed.fr/jobs?q=Alternance%20data&l=Paris%20(75)&fromage=3&start=40&vjk=a405ec96db71c92f', 'https://www.indeed.fr/jobs?q=Alternance%20data&l=Paris%20(75)&fromage=3&start=40&vjk=40bd81dd407ad94c', 'https://www.indeed.fr/jobs?q=Alternance%20data&l=Paris%20(75)&fromage=3&start=40&vjk=8aa16c496373313a&advn=8842499751391061', 'https://www.indeed.fr/jobs?q=Alternance%20data&l=Paris%20(75)&fromage=3&start=40&vjk=deac4f30a44641a1&advn=4629412499192798', 'https://www.indeed.fr/jobs?q=Alternance%20data&l=Paris%20(75)&fromage=3&start=50&vjk=cdad0009d95e83ce', 'https://www.indeed.fr/jobs?q=Alternance%20data&l=Paris%20(75)&fromage=3&start=50&vjk=3bc5b77ca33eaf64', 'https://www.indeed.fr/jobs?q=Alternance%20data&l=Paris%20(75)&fromage=3&start=50&vjk=607258834851b110', 'https://www.indeed.fr/jobs?q=Alternance%20data&l=Paris%20(75)&fromage=3&start=50&vjk=f245621c29265272', 'https://www.indeed.fr/jobs?q=Alternance%20data&l=Paris%20(75)&fromage=3&start=50&vjk=3cdfbb53ed6487de', 'https://www.indeed.fr/jobs?q=Alternance%20data&l=Paris%20(75)&fromage=3&start=50&vjk=61ad7605ea7ef4fe', 'https://www.indeed.fr/jobs?q=Alternance%20data&l=Paris%20(75)&fromage=3&start=50&vjk=cd1095712037043c', 'https://www.indeed.fr/jobs?q=Alternance%20data&l=Paris%20(75)&fromage=3&start=50&vjk=abed821f3d0d3611', 'https://www.indeed.fr/jobs?q=Alternance%20data&l=Paris%20(75)&fromage=3&start=50&vjk=0ee233fd2ef57bb7', 'https://www.indeed.fr/jobs?q=Alternance%20data&l=Paris%20(75)&fromage=3&start=50&vjk=085a84e1c4481e7b', 'https://www.indeed.fr/jobs?q=Alternance%20data&l=Paris%20(75)&fromage=3&start=50&vjk=f267555c5e927363&advn=4629412499192798', 'https://www.indeed.fr/jobs?q=Alternance%20data&l=Paris%20(75)&fromage=3&start=60&vjk=9e949a6dc32b2b8a', 'https://www.indeed.fr/jobs?q=Alternance%20data&l=Paris%20(75)&fromage=3&start=60&vjk=4534c8836c3f705e', 'https://www.indeed.fr/jobs?q=Alternance%20data&l=Paris%20(75)&fromage=3&start=60&vjk=cac88d78b1eff9b5', 'https://www.indeed.fr/jobs?q=Alternance%20data&l=Paris%20(75)&fromage=3&start=60&vjk=64097b5eb961c439', 'https://www.indeed.fr/jobs?q=Alternance%20data&l=Paris%20(75)&fromage=3&start=60&vjk=86dcf4ca0483b445', 'https://www.indeed.fr/jobs?q=Alternance%20data&l=Paris%20(75)&fromage=3&start=60&vjk=4ba1779c160dd4fb', 'https://www.indeed.fr/jobs?q=Alternance%20data&l=Paris%20(75)&fromage=3&start=60&vjk=6cf8a3155e1886f6', 'https://www.indeed.fr/jobs?q=Alternance%20data&l=Paris%20(75)&fromage=3&start=60&vjk=03e63b06345647f7', 'https://www.indeed.fr/jobs?q=Alternance%20data&l=Paris%20(75)&fromage=3&start=60&vjk=e0ed450d5a1739e1', 'https://www.indeed.fr/jobs?q=Alternance%20data&l=Paris%20(75)&fromage=3&start=60&vjk=f3b23f994b6a299f', 'https://www.indeed.fr/jobs?q=Alternance%20data&l=Paris%20(75)&fromage=3&start=70&vjk=4b06a7f9dc2ecec0', 'https://www.indeed.fr/jobs?q=Alternance%20data&l=Paris%20(75)&fromage=3&start=70&vjk=2bee9e30ffa1cdde', 'https://www.indeed.fr/jobs?q=Alternance%20data&l=Paris%20(75)&fromage=3&start=70&vjk=74c2de341c915b53', 'https://www.indeed.fr/jobs?q=Alternance%20data&l=Paris%20(75)&fromage=3&start=70&vjk=56fa96797e32b8d7', 'https://www.indeed.fr/jobs?q=Alternance%20data&l=Paris%20(75)&fromage=3&start=70&vjk=07c0b24a7a9ed25b', 'https://www.indeed.fr/jobs?q=Alternance%20data&l=Paris%20(75)&fromage=3&start=70&vjk=fc34111dab2abe67', 'https://www.indeed.fr/jobs?q=Alternance%20data&l=Paris%20(75)&fromage=3&start=70&vjk=4dfa32240f16f764', 'https://www.indeed.fr/jobs?q=Alternance%20data&l=Paris%20(75)&fromage=3&start=70&vjk=53fbd99ace609479', 'https://www.indeed.fr/jobs?q=Alternance%20data&l=Paris%20(75)&fromage=3&start=70&vjk=2fcc0e56b5dda3fc', 'https://www.indeed.fr/jobs?q=Alternance%20data&l=Paris%20(75)&fromage=3&start=70&vjk=8184fa01047b4e8f', 'https://www.indeed.fr/jobs?q=Alternance%20data&l=Paris%20(75)&fromage=3&start=80&vjk=3ef5a72421b86333', 'https://www.indeed.fr/jobs?q=Alternance%20data&l=Paris%20(75)&fromage=3&start=80&vjk=13c6f8dee15d6e91', 'https://www.indeed.fr/jobs?q=Alternance%20data&l=Paris%20(75)&fromage=3&start=80&vjk=d5bef36b7bf29be3', 'https://www.indeed.fr/jobs?q=Alternance%20data&l=Paris%20(75)&fromage=3&start=80&vjk=012dba954d104af1', 'https://www.indeed.fr/jobs?q=Alternance%20data&l=Paris%20(75)&fromage=3&start=80&vjk=fcf87518e27fcc1c', 'https://www.indeed.fr/jobs?q=Alternance%20data&l=Paris%20(75)&fromage=3&start=80&vjk=758e1f723afc8afd', 'https://www.indeed.fr/jobs?q=Alternance%20data&l=Paris%20(75)&fromage=3&start=80&vjk=50719ef91fa00932', 'https://www.indeed.fr/jobs?q=Alternance%20data&l=Paris%20(75)&fromage=3&start=80&vjk=a55f89a186079bbb', 'https://www.indeed.fr/jobs?q=Alternance%20data&l=Paris%20(75)&fromage=3&start=80&vjk=5785e14085c17b31', 'https://www.indeed.fr/jobs?q=Alternance%20data&l=Paris%20(75)&fromage=3&start=80&vjk=cc116ef98995c0bf', 'https://www.indeed.fr/jobs?q=Alternance%20data&l=Paris%20(75)&fromage=3&start=90&vjk=a86733ebd6214d95', 'https://www.indeed.fr/jobs?q=Alternance%20data&l=Paris%20(75)&fromage=3&start=90&vjk=6aa308e9f5ba9e39', 'https://www.indeed.fr/jobs?q=Alternance%20data&l=Paris%20(75)&fromage=3&start=90&vjk=c735fc225229a194', 'https://www.indeed.fr/jobs?q=Alternance%20data&l=Paris%20(75)&fromage=3&start=90&vjk=143423b5390b8558', 'https://www.indeed.fr/jobs?q=Alternance%20data&l=Paris%20(75)&fromage=3&start=90&vjk=540dd443e299eb54', 'https://www.indeed.fr/jobs?q=Alternance%20data&l=Paris%20(75)&fromage=3&start=90&vjk=7709d09c8d9a08d3', 'https://www.indeed.fr/jobs?q=Alternance%20data&l=Paris%20(75)&fromage=3&start=90&vjk=cb20132938a6d4fd', 'https://www.indeed.fr/jobs?q=Alternance%20data&l=Paris%20(75)&fromage=3&start=90&vjk=89c1ef7a671e4ba1', 'https://www.indeed.fr/jobs?q=Alternance%20data&l=Paris%20(75)&fromage=3&start=90&vjk=0d093abd9eac69c4', 'https://www.indeed.fr/jobs?q=Alternance%20data&l=Paris%20(75)&fromage=3&start=90&vjk=4b303aeb5b4c8d02', 'https://www.indeed.fr/jobs?q=Alternance%20data&l=Paris%20(75)&fromage=3&start=100&vjk=99f8927a70cd076e', 'https://www.indeed.fr/jobs?q=Alternance%20data&l=Paris%20(75)&fromage=3&start=100&vjk=b661a70de4b6a543', 'https://www.indeed.fr/jobs?q=Alternance%20data&l=Paris%20(75)&fromage=3&start=100&vjk=54a1fc8f7678cb49', 'https://www.indeed.fr/jobs?q=Alternance%20data&l=Paris%20(75)&fromage=3&start=100&vjk=d4dd32dd9c2d8da1', 'https://www.indeed.fr/jobs?q=Alternance%20data&l=Paris%20(75)&fromage=3&start=100&vjk=7e5cad25d8a2c0e4', 'https://www.indeed.fr/jobs?q=Alternance%20data&l=Paris%20(75)&fromage=3&start=100&vjk=5e4b0bcf05e8f635', 'https://www.indeed.fr/jobs?q=Alternance%20data&l=Paris%20(75)&fromage=3&start=100&vjk=ce0b33d6b3bc0b7c', 'https://www.indeed.fr/jobs?q=Alternance%20data&l=Paris%20(75)&fromage=3&start=100&vjk=2b3803572fe217e5', 'https://www.indeed.fr/jobs?q=Alternance%20data&l=Paris%20(75)&fromage=3&start=100&vjk=de47958aefe1597a', 'https://www.indeed.fr/jobs?q=Alternance%20data&l=Paris%20(75)&fromage=3&start=100&vjk=315d28a599aa1f57', 'https://www.indeed.fr/jobs?q=Alternance%20data&l=Paris%20(75)&fromage=3&start=110&vjk=5faae3a301d48379', 'https://www.indeed.fr/jobs?q=Alternance%20data&l=Paris%20(75)&fromage=3&start=110&vjk=fb5e7e31b7a5d901', 'https://www.indeed.fr/jobs?q=Alternance%20data&l=Paris%20(75)&fromage=3&start=110&vjk=a7ee77795aedab5f', 'https://www.indeed.fr/jobs?q=Alternance%20data&l=Paris%20(75)&fromage=3&start=110&vjk=22f556fce9cd2567']\n",
      "########################################\n",
      "125\n",
      "125\n",
      "125\n"
     ]
    }
   ],
   "source": [
    "print(titles)\n",
    "print(40*'#')\n",
    "\n",
    "print(companies)\n",
    "print(40*'#')\n",
    "\n",
    "print(locations)\n",
    "print(40*'#')\n",
    "\n",
    "print(urls)\n",
    "print(40*'#')\n",
    "\n",
    "print(len(titles))\n",
    "print(len(locations))\n",
    "print(len(urls))"
   ]
  },
  {
   "cell_type": "code",
   "execution_count": 65,
   "metadata": {},
   "outputs": [],
   "source": [
    "d = {'Entreprise':companies, 'Offre': title, 'Lieu': locations, 'URL':urls}\n",
    "df = pd.DataFrame(data=d)\n",
    "df.to_csv('scrap_indeed.csv',index=False)"
   ]
  },
  {
   "cell_type": "markdown",
   "metadata": {},
   "source": [
    "### Problème annexe : le changement de location par défaut "
   ]
  },
  {
   "cell_type": "code",
   "execution_count": null,
   "metadata": {},
   "outputs": [],
   "source": [
    "# ENTREZ LA LOCATION (ex: Paris)\n",
    "\n",
    "### !!!! ####\n",
    "### Difficulté avec la valeur par défaut --> SKIP Pour le moment\n",
    "        # 1. Supprimez la valeur par default, clear la bar de recherche\n",
    "#location_bar = browser.find_element_by_id('text-input-where')  #.clear()\n",
    "#location_bar.sendKeys(Keys.CONTROL, Keys.chord(\"a\")); # select all text in textbox\n",
    "#location_bar.sendKeys(Keys.BACK_SPACE); # delete it\n",
    "#location_bar.sendKeys(\"new text\"); # enter new text\n",
    "        # 2. Rentrez une nouvelle valeur\n",
    "#location_bar_2 = browser.find_element_by_id('text-input-where').send_keys('Paris')\n",
    "### !!!! ####"
   ]
  }
 ],
 "metadata": {
  "kernelspec": {
   "display_name": "Python 3",
   "language": "python",
   "name": "python3"
  },
  "language_info": {
   "codemirror_mode": {
    "name": "ipython",
    "version": 3
   },
   "file_extension": ".py",
   "mimetype": "text/x-python",
   "name": "python",
   "nbconvert_exporter": "python",
   "pygments_lexer": "ipython3",
   "version": "3.7.6"
  }
 },
 "nbformat": 4,
 "nbformat_minor": 4
}
