{
 "cells": [
  {
   "cell_type": "markdown",
   "metadata": {},
   "source": [
    "### In a terminal\n",
    "**Type:**   \n",
    " - mongo  \n",
    " - show dbs  \n",
    " \n",
    "**To create a db:**    \n",
    " - use databaseName\n",
    " \n",
    "**To create a collection:**\n",
    " - db.createCollection(collectionName)\n"
   ]
  },
  {
   "cell_type": "code",
   "execution_count": 3,
   "metadata": {},
   "outputs": [],
   "source": [
    "import numpy as np\n",
    "import pandas as pd"
   ]
  },
  {
   "cell_type": "code",
   "execution_count": 10,
   "metadata": {},
   "outputs": [
    {
     "data": {
      "text/html": [
       "<div>\n",
       "<style scoped>\n",
       "    .dataframe tbody tr th:only-of-type {\n",
       "        vertical-align: middle;\n",
       "    }\n",
       "\n",
       "    .dataframe tbody tr th {\n",
       "        vertical-align: top;\n",
       "    }\n",
       "\n",
       "    .dataframe thead th {\n",
       "        text-align: right;\n",
       "    }\n",
       "</style>\n",
       "<table border=\"1\" class=\"dataframe\">\n",
       "  <thead>\n",
       "    <tr style=\"text-align: right;\">\n",
       "      <th></th>\n",
       "      <th>Entreprise</th>\n",
       "      <th>Offre</th>\n",
       "      <th>Lieu</th>\n",
       "      <th>URL</th>\n",
       "    </tr>\n",
       "  </thead>\n",
       "  <tbody>\n",
       "    <tr>\n",
       "      <th>0</th>\n",
       "      <td>SKILL AND YOU</td>\n",
       "      <td>Chargé(e)s de gestion locative en Alternance</td>\n",
       "      <td>- Paris 8e (75)</td>\n",
       "      <td>https://www.indeed.fr/jobs?q=Alternance%20data...</td>\n",
       "    </tr>\n",
       "    <tr>\n",
       "      <th>1</th>\n",
       "      <td>Novencia</td>\n",
       "      <td>Développeur.se Web – Stage/Alternance (F/H)</td>\n",
       "      <td>- Paris (75)</td>\n",
       "      <td>https://www.indeed.fr/jobs?q=Alternance%20data...</td>\n",
       "    </tr>\n",
       "    <tr>\n",
       "      <th>2</th>\n",
       "      <td>SPEAKING AGENCY</td>\n",
       "      <td>Data Analyst H/F</td>\n",
       "      <td>- Paris 12e (75)</td>\n",
       "      <td>https://www.indeed.fr/jobs?q=Alternance%20data...</td>\n",
       "    </tr>\n",
       "    <tr>\n",
       "      <th>3</th>\n",
       "      <td>GROUPE GIFT</td>\n",
       "      <td>ALTERNANCE – Chargé de la relation client H/F</td>\n",
       "      <td>- Paris (75)</td>\n",
       "      <td>https://www.indeed.fr/jobs?q=Alternance%20data...</td>\n",
       "    </tr>\n",
       "    <tr>\n",
       "      <th>4</th>\n",
       "      <td>Chance</td>\n",
       "      <td>DATA ANALYST (M/F/D) - ALTERNANCE</td>\n",
       "      <td>- Paris (75)</td>\n",
       "      <td>https://www.indeed.fr/jobs?q=Alternance%20data...</td>\n",
       "    </tr>\n",
       "    <tr>\n",
       "      <th>...</th>\n",
       "      <td>...</td>\n",
       "      <td>...</td>\n",
       "      <td>...</td>\n",
       "      <td>...</td>\n",
       "    </tr>\n",
       "    <tr>\n",
       "      <th>515</th>\n",
       "      <td>NaN</td>\n",
       "      <td>NaN</td>\n",
       "      <td>NaN</td>\n",
       "      <td>https://www.indeed.fr/jobs?q=Alternance%20data...</td>\n",
       "    </tr>\n",
       "    <tr>\n",
       "      <th>516</th>\n",
       "      <td>OCTOPUS COMPUTER ASSOCIATES</td>\n",
       "      <td>IoT &amp; Big Data Technical Specialist Engineer P...</td>\n",
       "      <td>- Paris (75)</td>\n",
       "      <td>https://www.indeed.fr/jobs?q=Alternance%20data...</td>\n",
       "    </tr>\n",
       "    <tr>\n",
       "      <th>517</th>\n",
       "      <td>Julien Cornic, infographiste freelance</td>\n",
       "      <td>Big Data Engineer / Freelance</td>\n",
       "      <td>- Paris (75)</td>\n",
       "      <td>https://www.indeed.fr/jobs?q=Alternance%20data...</td>\n",
       "    </tr>\n",
       "    <tr>\n",
       "      <th>518</th>\n",
       "      <td>Highline Paris</td>\n",
       "      <td>Architecte chargé de projet pour un grand ense...</td>\n",
       "      <td>- Paris (75)</td>\n",
       "      <td>https://www.indeed.fr/jobs?q=Alternance%20data...</td>\n",
       "    </tr>\n",
       "    <tr>\n",
       "      <th>519</th>\n",
       "      <td>Synergie</td>\n",
       "      <td>Chargé de projet d'affaires en industrie F/H</td>\n",
       "      <td>- Vélizy-Villacoublay (78)</td>\n",
       "      <td>https://www.indeed.fr/jobs?q=Alternance%20data...</td>\n",
       "    </tr>\n",
       "  </tbody>\n",
       "</table>\n",
       "<p>520 rows × 4 columns</p>\n",
       "</div>"
      ],
      "text/plain": [
       "                                 Entreprise  \\\n",
       "0                             SKILL AND YOU   \n",
       "1                                  Novencia   \n",
       "2                           SPEAKING AGENCY   \n",
       "3                               GROUPE GIFT   \n",
       "4                                    Chance   \n",
       "..                                      ...   \n",
       "515                                     NaN   \n",
       "516             OCTOPUS COMPUTER ASSOCIATES   \n",
       "517  Julien Cornic, infographiste freelance   \n",
       "518                          Highline Paris   \n",
       "519                                Synergie   \n",
       "\n",
       "                                                 Offre  \\\n",
       "0         Chargé(e)s de gestion locative en Alternance   \n",
       "1          Développeur.se Web – Stage/Alternance (F/H)   \n",
       "2                                     Data Analyst H/F   \n",
       "3        ALTERNANCE – Chargé de la relation client H/F   \n",
       "4                    DATA ANALYST (M/F/D) - ALTERNANCE   \n",
       "..                                                 ...   \n",
       "515                                                NaN   \n",
       "516  IoT & Big Data Technical Specialist Engineer P...   \n",
       "517                      Big Data Engineer / Freelance   \n",
       "518  Architecte chargé de projet pour un grand ense...   \n",
       "519       Chargé de projet d'affaires en industrie F/H   \n",
       "\n",
       "                           Lieu  \\\n",
       "0               - Paris 8e (75)   \n",
       "1                  - Paris (75)   \n",
       "2              - Paris 12e (75)   \n",
       "3                  - Paris (75)   \n",
       "4                  - Paris (75)   \n",
       "..                          ...   \n",
       "515                         NaN   \n",
       "516                - Paris (75)   \n",
       "517                - Paris (75)   \n",
       "518                - Paris (75)   \n",
       "519  - Vélizy-Villacoublay (78)   \n",
       "\n",
       "                                                   URL  \n",
       "0    https://www.indeed.fr/jobs?q=Alternance%20data...  \n",
       "1    https://www.indeed.fr/jobs?q=Alternance%20data...  \n",
       "2    https://www.indeed.fr/jobs?q=Alternance%20data...  \n",
       "3    https://www.indeed.fr/jobs?q=Alternance%20data...  \n",
       "4    https://www.indeed.fr/jobs?q=Alternance%20data...  \n",
       "..                                                 ...  \n",
       "515  https://www.indeed.fr/jobs?q=Alternance%20data...  \n",
       "516  https://www.indeed.fr/jobs?q=Alternance%20data...  \n",
       "517  https://www.indeed.fr/jobs?q=Alternance%20data...  \n",
       "518  https://www.indeed.fr/jobs?q=Alternance%20data...  \n",
       "519  https://www.indeed.fr/jobs?q=Alternance%20data...  \n",
       "\n",
       "[520 rows x 4 columns]"
      ]
     },
     "execution_count": 10,
     "metadata": {},
     "output_type": "execute_result"
    }
   ],
   "source": [
    "data = pd.read_csv('scrap_indeed_fourteen_days.csv')\n",
    "data"
   ]
  },
  {
   "cell_type": "code",
   "execution_count": 13,
   "metadata": {},
   "outputs": [
    {
     "data": {
      "text/plain": [
       "'UN ALTERNANT – CHARGE GESTION DE PROJETS DATA (H/F)'"
      ]
     },
     "execution_count": 13,
     "metadata": {},
     "output_type": "execute_result"
    }
   ],
   "source": [
    "data['Offre'][36]"
   ]
  },
  {
   "cell_type": "code",
   "execution_count": 16,
   "metadata": {},
   "outputs": [],
   "source": [
    "from pymongo import MongoClient"
   ]
  },
  {
   "cell_type": "code",
   "execution_count": 17,
   "metadata": {},
   "outputs": [],
   "source": [
    "client = MongoClient('mongodb://localhost:27017/')"
   ]
  },
  {
   "cell_type": "code",
   "execution_count": 30,
   "metadata": {},
   "outputs": [
    {
     "data": {
      "text/plain": [
       "['admin',\n",
       " 'config',\n",
       " 'demo',\n",
       " 'lab-authentification-with-passport',\n",
       " 'local',\n",
       " 'tabbataproject']"
      ]
     },
     "execution_count": 30,
     "metadata": {},
     "output_type": "execute_result"
    }
   ],
   "source": [
    "client.list_database_names()"
   ]
  },
  {
   "cell_type": "code",
   "execution_count": 32,
   "metadata": {},
   "outputs": [],
   "source": [
    "db = client['demo']"
   ]
  },
  {
   "cell_type": "code",
   "execution_count": 33,
   "metadata": {},
   "outputs": [
    {
     "data": {
      "text/plain": [
       "['jobs_indeed']"
      ]
     },
     "execution_count": 33,
     "metadata": {},
     "output_type": "execute_result"
    }
   ],
   "source": [
    "db.list_collection_names()"
   ]
  },
  {
   "cell_type": "code",
   "execution_count": 34,
   "metadata": {},
   "outputs": [],
   "source": [
    "jobs_indeed = db['jobs_indeed']"
   ]
  },
  {
   "cell_type": "code",
   "execution_count": 35,
   "metadata": {},
   "outputs": [
    {
     "data": {
      "text/plain": [
       "520"
      ]
     },
     "execution_count": 35,
     "metadata": {},
     "output_type": "execute_result"
    }
   ],
   "source": [
    "jobs_indeed.count_documents({})"
   ]
  },
  {
   "cell_type": "code",
   "execution_count": null,
   "metadata": {},
   "outputs": [],
   "source": []
  }
 ],
 "metadata": {
  "kernelspec": {
   "display_name": "Python 3",
   "language": "python",
   "name": "python3"
  },
  "language_info": {
   "codemirror_mode": {
    "name": "ipython",
    "version": 3
   },
   "file_extension": ".py",
   "mimetype": "text/x-python",
   "name": "python",
   "nbconvert_exporter": "python",
   "pygments_lexer": "ipython3",
   "version": "3.7.6"
  }
 },
 "nbformat": 4,
 "nbformat_minor": 4
}
